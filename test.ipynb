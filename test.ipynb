{
 "cells": [
  {
   "cell_type": "code",
   "execution_count": 7,
   "metadata": {},
   "outputs": [],
   "source": [
    "import plotly.express as px\n",
    "\n",
    "from plotly.subplots import make_subplots\n",
    "\n",
    "from func import *\n",
    "import numpy as npy\n",
    "import pandas as pd\n"
   ]
  },
  {
   "cell_type": "code",
   "execution_count": 8,
   "metadata": {},
   "outputs": [],
   "source": [
    "# Definimos los conjuntos iniciales\n",
    "ng = [-1.0,-1.0,-0.8,-0.6]\n",
    "np = [-0.8,-0.6, -0.2,0.0]\n",
    "ce = [-0.2,-0.0, 0.0, 0.2]\n",
    "pp = [ 0.0, 0.2, 0.6, 0.8]\n",
    "pg = [ 0.6, 0.8, 1.0, 1.0]\n",
    "\n",
    "conjuntos = [ng, np, ce, pp, pg]"
   ]
  },
  {
   "cell_type": "code",
   "execution_count": null,
   "metadata": {},
   "outputs": [],
   "source": [
    "fig = graficar_conjunto_difuso(interfaz_difusion, ce, 100)"
   ]
  },
  {
   "cell_type": "code",
   "execution_count": null,
   "metadata": {},
   "outputs": [],
   "source": [
    "fig.show()"
   ]
  },
  {
   "cell_type": "code",
   "execution_count": null,
   "metadata": {},
   "outputs": [],
   "source": [
    "ce_ = de_a(ce, ng)"
   ]
  },
  {
   "cell_type": "code",
   "execution_count": null,
   "metadata": {},
   "outputs": [],
   "source": [
    "fig = graficar_conjunto_difuso(interfaz_difusion, ce_, 100)\n",
    "fig.show()"
   ]
  },
  {
   "attachments": {},
   "cell_type": "markdown",
   "metadata": {},
   "source": [
    "# Grafico de los conjuntos"
   ]
  },
  {
   "cell_type": "code",
   "execution_count": 3,
   "metadata": {},
   "outputs": [
    {
     "name": "stdout",
     "output_type": "stream",
     "text": [
      "0\n",
      "1\n",
      "2\n",
      "3\n",
      "4\n"
     ]
    },
    {
     "data": {
      "application/vnd.plotly.v1+json": {
       "config": {
        "plotlyServerURL": "https://plot.ly"
       },
       "data": [
        {
         "type": "scatter",
         "x": [
          -1,
          -0.9523809523809523,
          -0.9047619047619048,
          -0.8571428571428572,
          -0.8095238095238095,
          -0.7619047619047619,
          -0.7142857142857143,
          -0.6666666666666667,
          -0.6190476190476191,
          -0.5714285714285714,
          -0.5238095238095238,
          -0.4761904761904763,
          -0.4285714285714286,
          -0.38095238095238093,
          -0.33333333333333337,
          -0.2857142857142858,
          -0.23809523809523814,
          -0.19047619047619047,
          -0.1428571428571429,
          -0.09523809523809534,
          -0.04761904761904767,
          0,
          0.04761904761904745,
          0.09523809523809512,
          0.1428571428571428,
          0.19047619047619047,
          0.23809523809523814,
          0.2857142857142856,
          0.33333333333333326,
          0.38095238095238093,
          0.4285714285714284,
          0.47619047619047605,
          0.5238095238095237,
          0.5714285714285714,
          0.6190476190476191,
          0.6666666666666665,
          0.7142857142857142,
          0.7619047619047619,
          0.8095238095238093,
          0.857142857142857,
          0.9047619047619047,
          0.9523809523809523,
          1
         ],
         "xaxis": "x",
         "y": [
          1,
          1,
          1,
          1,
          1,
          0.8095238095238092,
          0.5714285714285714,
          0.3333333333333337,
          0.09523809523809543,
          0,
          0,
          0,
          0,
          0,
          0,
          0,
          0,
          0,
          0,
          0,
          0,
          0,
          0,
          0,
          0,
          0,
          0,
          0,
          0,
          0,
          0,
          0,
          0,
          0,
          0,
          0,
          0,
          0,
          0,
          0,
          0,
          0,
          0
         ],
         "yaxis": "y"
        },
        {
         "type": "scatter",
         "x": [
          -1,
          -0.9523809523809523,
          -0.9047619047619048,
          -0.8571428571428572,
          -0.8095238095238095,
          -0.7619047619047619,
          -0.7142857142857143,
          -0.6666666666666667,
          -0.6190476190476191,
          -0.5714285714285714,
          -0.5238095238095238,
          -0.4761904761904763,
          -0.4285714285714286,
          -0.38095238095238093,
          -0.33333333333333337,
          -0.2857142857142858,
          -0.23809523809523814,
          -0.19047619047619047,
          -0.1428571428571429,
          -0.09523809523809534,
          -0.04761904761904767,
          0,
          0.04761904761904745,
          0.09523809523809512,
          0.1428571428571428,
          0.19047619047619047,
          0.23809523809523814,
          0.2857142857142856,
          0.33333333333333326,
          0.38095238095238093,
          0.4285714285714284,
          0.47619047619047605,
          0.5238095238095237,
          0.5714285714285714,
          0.6190476190476191,
          0.6666666666666665,
          0.7142857142857142,
          0.7619047619047619,
          0.8095238095238093,
          0.857142857142857,
          0.9047619047619047,
          0.9523809523809523,
          1
         ],
         "xaxis": "x2",
         "y": [
          0,
          0,
          0,
          0,
          0,
          0.19047619047619085,
          0.42857142857142855,
          0.6666666666666663,
          0.9047619047619045,
          1,
          1,
          1,
          1,
          1,
          1,
          1,
          1,
          0.9523809523809523,
          0.7142857142857145,
          0.4761904761904767,
          0.23809523809523836,
          0,
          0,
          0,
          0,
          0,
          0,
          0,
          0,
          0,
          0,
          0,
          0,
          0,
          0,
          0,
          0,
          0,
          0,
          0,
          0,
          0,
          0
         ],
         "yaxis": "y2"
        },
        {
         "type": "scatter",
         "x": [
          -1,
          -0.9523809523809523,
          -0.9047619047619048,
          -0.8571428571428572,
          -0.8095238095238095,
          -0.7619047619047619,
          -0.7142857142857143,
          -0.6666666666666667,
          -0.6190476190476191,
          -0.5714285714285714,
          -0.5238095238095238,
          -0.4761904761904763,
          -0.4285714285714286,
          -0.38095238095238093,
          -0.33333333333333337,
          -0.2857142857142858,
          -0.23809523809523814,
          -0.19047619047619047,
          -0.1428571428571429,
          -0.09523809523809534,
          -0.04761904761904767,
          0,
          0.04761904761904745,
          0.09523809523809512,
          0.1428571428571428,
          0.19047619047619047,
          0.23809523809523814,
          0.2857142857142856,
          0.33333333333333326,
          0.38095238095238093,
          0.4285714285714284,
          0.47619047619047605,
          0.5238095238095237,
          0.5714285714285714,
          0.6190476190476191,
          0.6666666666666665,
          0.7142857142857142,
          0.7619047619047619,
          0.8095238095238093,
          0.857142857142857,
          0.9047619047619047,
          0.9523809523809523,
          1
         ],
         "xaxis": "x3",
         "y": [
          0,
          0,
          0,
          0,
          0,
          0,
          0,
          0,
          0,
          0,
          0,
          0,
          0,
          0,
          0,
          0,
          0,
          0.04761904761904773,
          0.28571428571428553,
          0.5238095238095233,
          0.7619047619047616,
          1,
          0.7619047619047628,
          0.5238095238095244,
          0.2857142857142861,
          0.04761904761904773,
          0,
          0,
          0,
          0,
          0,
          0,
          0,
          0,
          0,
          0,
          0,
          0,
          0,
          0,
          0,
          0,
          0
         ],
         "yaxis": "y3"
        },
        {
         "type": "scatter",
         "x": [
          -1,
          -0.9523809523809523,
          -0.9047619047619048,
          -0.8571428571428572,
          -0.8095238095238095,
          -0.7619047619047619,
          -0.7142857142857143,
          -0.6666666666666667,
          -0.6190476190476191,
          -0.5714285714285714,
          -0.5238095238095238,
          -0.4761904761904763,
          -0.4285714285714286,
          -0.38095238095238093,
          -0.33333333333333337,
          -0.2857142857142858,
          -0.23809523809523814,
          -0.19047619047619047,
          -0.1428571428571429,
          -0.09523809523809534,
          -0.04761904761904767,
          0,
          0.04761904761904745,
          0.09523809523809512,
          0.1428571428571428,
          0.19047619047619047,
          0.23809523809523814,
          0.2857142857142856,
          0.33333333333333326,
          0.38095238095238093,
          0.4285714285714284,
          0.47619047619047605,
          0.5238095238095237,
          0.5714285714285714,
          0.6190476190476191,
          0.6666666666666665,
          0.7142857142857142,
          0.7619047619047619,
          0.8095238095238093,
          0.857142857142857,
          0.9047619047619047,
          0.9523809523809523,
          1
         ],
         "xaxis": "x4",
         "y": [
          0,
          0,
          0,
          0,
          0,
          0,
          0,
          0,
          0,
          0,
          0,
          0,
          0,
          0,
          0,
          0,
          0,
          0,
          0,
          0,
          0,
          0,
          0.23809523809523725,
          0.4761904761904756,
          0.714285714285714,
          0.9523809523809523,
          1,
          1,
          1,
          1,
          1,
          1,
          1,
          1,
          0.9047619047619045,
          0.6666666666666674,
          0.4285714285714291,
          0.19047619047619085,
          0,
          0,
          0,
          0,
          0
         ],
         "yaxis": "y4"
        },
        {
         "type": "scatter",
         "x": [
          -1,
          -0.9523809523809523,
          -0.9047619047619048,
          -0.8571428571428572,
          -0.8095238095238095,
          -0.7619047619047619,
          -0.7142857142857143,
          -0.6666666666666667,
          -0.6190476190476191,
          -0.5714285714285714,
          -0.5238095238095238,
          -0.4761904761904763,
          -0.4285714285714286,
          -0.38095238095238093,
          -0.33333333333333337,
          -0.2857142857142858,
          -0.23809523809523814,
          -0.19047619047619047,
          -0.1428571428571429,
          -0.09523809523809534,
          -0.04761904761904767,
          0,
          0.04761904761904745,
          0.09523809523809512,
          0.1428571428571428,
          0.19047619047619047,
          0.23809523809523814,
          0.2857142857142856,
          0.33333333333333326,
          0.38095238095238093,
          0.4285714285714284,
          0.47619047619047605,
          0.5238095238095237,
          0.5714285714285714,
          0.6190476190476191,
          0.6666666666666665,
          0.7142857142857142,
          0.7619047619047619,
          0.8095238095238093,
          0.857142857142857,
          0.9047619047619047,
          0.9523809523809523,
          1
         ],
         "xaxis": "x5",
         "y": [
          0,
          0,
          0,
          0,
          0,
          0,
          0,
          0,
          0,
          0,
          0,
          0,
          0,
          0,
          0,
          0,
          0,
          0,
          0,
          0,
          0,
          0,
          0,
          0,
          0,
          0,
          0,
          0,
          0,
          0,
          0,
          0,
          0,
          0,
          0.09523809523809543,
          0.3333333333333326,
          0.5714285714285708,
          0.8095238095238092,
          1,
          1,
          1,
          1,
          0
         ],
         "yaxis": "y5"
        }
       ],
       "layout": {
        "height": 600,
        "template": {
         "data": {
          "bar": [
           {
            "error_x": {
             "color": "#2a3f5f"
            },
            "error_y": {
             "color": "#2a3f5f"
            },
            "marker": {
             "line": {
              "color": "#E5ECF6",
              "width": 0.5
             },
             "pattern": {
              "fillmode": "overlay",
              "size": 10,
              "solidity": 0.2
             }
            },
            "type": "bar"
           }
          ],
          "barpolar": [
           {
            "marker": {
             "line": {
              "color": "#E5ECF6",
              "width": 0.5
             },
             "pattern": {
              "fillmode": "overlay",
              "size": 10,
              "solidity": 0.2
             }
            },
            "type": "barpolar"
           }
          ],
          "carpet": [
           {
            "aaxis": {
             "endlinecolor": "#2a3f5f",
             "gridcolor": "white",
             "linecolor": "white",
             "minorgridcolor": "white",
             "startlinecolor": "#2a3f5f"
            },
            "baxis": {
             "endlinecolor": "#2a3f5f",
             "gridcolor": "white",
             "linecolor": "white",
             "minorgridcolor": "white",
             "startlinecolor": "#2a3f5f"
            },
            "type": "carpet"
           }
          ],
          "choropleth": [
           {
            "colorbar": {
             "outlinewidth": 0,
             "ticks": ""
            },
            "type": "choropleth"
           }
          ],
          "contour": [
           {
            "colorbar": {
             "outlinewidth": 0,
             "ticks": ""
            },
            "colorscale": [
             [
              0,
              "#0d0887"
             ],
             [
              0.1111111111111111,
              "#46039f"
             ],
             [
              0.2222222222222222,
              "#7201a8"
             ],
             [
              0.3333333333333333,
              "#9c179e"
             ],
             [
              0.4444444444444444,
              "#bd3786"
             ],
             [
              0.5555555555555556,
              "#d8576b"
             ],
             [
              0.6666666666666666,
              "#ed7953"
             ],
             [
              0.7777777777777778,
              "#fb9f3a"
             ],
             [
              0.8888888888888888,
              "#fdca26"
             ],
             [
              1,
              "#f0f921"
             ]
            ],
            "type": "contour"
           }
          ],
          "contourcarpet": [
           {
            "colorbar": {
             "outlinewidth": 0,
             "ticks": ""
            },
            "type": "contourcarpet"
           }
          ],
          "heatmap": [
           {
            "colorbar": {
             "outlinewidth": 0,
             "ticks": ""
            },
            "colorscale": [
             [
              0,
              "#0d0887"
             ],
             [
              0.1111111111111111,
              "#46039f"
             ],
             [
              0.2222222222222222,
              "#7201a8"
             ],
             [
              0.3333333333333333,
              "#9c179e"
             ],
             [
              0.4444444444444444,
              "#bd3786"
             ],
             [
              0.5555555555555556,
              "#d8576b"
             ],
             [
              0.6666666666666666,
              "#ed7953"
             ],
             [
              0.7777777777777778,
              "#fb9f3a"
             ],
             [
              0.8888888888888888,
              "#fdca26"
             ],
             [
              1,
              "#f0f921"
             ]
            ],
            "type": "heatmap"
           }
          ],
          "heatmapgl": [
           {
            "colorbar": {
             "outlinewidth": 0,
             "ticks": ""
            },
            "colorscale": [
             [
              0,
              "#0d0887"
             ],
             [
              0.1111111111111111,
              "#46039f"
             ],
             [
              0.2222222222222222,
              "#7201a8"
             ],
             [
              0.3333333333333333,
              "#9c179e"
             ],
             [
              0.4444444444444444,
              "#bd3786"
             ],
             [
              0.5555555555555556,
              "#d8576b"
             ],
             [
              0.6666666666666666,
              "#ed7953"
             ],
             [
              0.7777777777777778,
              "#fb9f3a"
             ],
             [
              0.8888888888888888,
              "#fdca26"
             ],
             [
              1,
              "#f0f921"
             ]
            ],
            "type": "heatmapgl"
           }
          ],
          "histogram": [
           {
            "marker": {
             "pattern": {
              "fillmode": "overlay",
              "size": 10,
              "solidity": 0.2
             }
            },
            "type": "histogram"
           }
          ],
          "histogram2d": [
           {
            "colorbar": {
             "outlinewidth": 0,
             "ticks": ""
            },
            "colorscale": [
             [
              0,
              "#0d0887"
             ],
             [
              0.1111111111111111,
              "#46039f"
             ],
             [
              0.2222222222222222,
              "#7201a8"
             ],
             [
              0.3333333333333333,
              "#9c179e"
             ],
             [
              0.4444444444444444,
              "#bd3786"
             ],
             [
              0.5555555555555556,
              "#d8576b"
             ],
             [
              0.6666666666666666,
              "#ed7953"
             ],
             [
              0.7777777777777778,
              "#fb9f3a"
             ],
             [
              0.8888888888888888,
              "#fdca26"
             ],
             [
              1,
              "#f0f921"
             ]
            ],
            "type": "histogram2d"
           }
          ],
          "histogram2dcontour": [
           {
            "colorbar": {
             "outlinewidth": 0,
             "ticks": ""
            },
            "colorscale": [
             [
              0,
              "#0d0887"
             ],
             [
              0.1111111111111111,
              "#46039f"
             ],
             [
              0.2222222222222222,
              "#7201a8"
             ],
             [
              0.3333333333333333,
              "#9c179e"
             ],
             [
              0.4444444444444444,
              "#bd3786"
             ],
             [
              0.5555555555555556,
              "#d8576b"
             ],
             [
              0.6666666666666666,
              "#ed7953"
             ],
             [
              0.7777777777777778,
              "#fb9f3a"
             ],
             [
              0.8888888888888888,
              "#fdca26"
             ],
             [
              1,
              "#f0f921"
             ]
            ],
            "type": "histogram2dcontour"
           }
          ],
          "mesh3d": [
           {
            "colorbar": {
             "outlinewidth": 0,
             "ticks": ""
            },
            "type": "mesh3d"
           }
          ],
          "parcoords": [
           {
            "line": {
             "colorbar": {
              "outlinewidth": 0,
              "ticks": ""
             }
            },
            "type": "parcoords"
           }
          ],
          "pie": [
           {
            "automargin": true,
            "type": "pie"
           }
          ],
          "scatter": [
           {
            "fillpattern": {
             "fillmode": "overlay",
             "size": 10,
             "solidity": 0.2
            },
            "type": "scatter"
           }
          ],
          "scatter3d": [
           {
            "line": {
             "colorbar": {
              "outlinewidth": 0,
              "ticks": ""
             }
            },
            "marker": {
             "colorbar": {
              "outlinewidth": 0,
              "ticks": ""
             }
            },
            "type": "scatter3d"
           }
          ],
          "scattercarpet": [
           {
            "marker": {
             "colorbar": {
              "outlinewidth": 0,
              "ticks": ""
             }
            },
            "type": "scattercarpet"
           }
          ],
          "scattergeo": [
           {
            "marker": {
             "colorbar": {
              "outlinewidth": 0,
              "ticks": ""
             }
            },
            "type": "scattergeo"
           }
          ],
          "scattergl": [
           {
            "marker": {
             "colorbar": {
              "outlinewidth": 0,
              "ticks": ""
             }
            },
            "type": "scattergl"
           }
          ],
          "scattermapbox": [
           {
            "marker": {
             "colorbar": {
              "outlinewidth": 0,
              "ticks": ""
             }
            },
            "type": "scattermapbox"
           }
          ],
          "scatterpolar": [
           {
            "marker": {
             "colorbar": {
              "outlinewidth": 0,
              "ticks": ""
             }
            },
            "type": "scatterpolar"
           }
          ],
          "scatterpolargl": [
           {
            "marker": {
             "colorbar": {
              "outlinewidth": 0,
              "ticks": ""
             }
            },
            "type": "scatterpolargl"
           }
          ],
          "scatterternary": [
           {
            "marker": {
             "colorbar": {
              "outlinewidth": 0,
              "ticks": ""
             }
            },
            "type": "scatterternary"
           }
          ],
          "surface": [
           {
            "colorbar": {
             "outlinewidth": 0,
             "ticks": ""
            },
            "colorscale": [
             [
              0,
              "#0d0887"
             ],
             [
              0.1111111111111111,
              "#46039f"
             ],
             [
              0.2222222222222222,
              "#7201a8"
             ],
             [
              0.3333333333333333,
              "#9c179e"
             ],
             [
              0.4444444444444444,
              "#bd3786"
             ],
             [
              0.5555555555555556,
              "#d8576b"
             ],
             [
              0.6666666666666666,
              "#ed7953"
             ],
             [
              0.7777777777777778,
              "#fb9f3a"
             ],
             [
              0.8888888888888888,
              "#fdca26"
             ],
             [
              1,
              "#f0f921"
             ]
            ],
            "type": "surface"
           }
          ],
          "table": [
           {
            "cells": {
             "fill": {
              "color": "#EBF0F8"
             },
             "line": {
              "color": "white"
             }
            },
            "header": {
             "fill": {
              "color": "#C8D4E3"
             },
             "line": {
              "color": "white"
             }
            },
            "type": "table"
           }
          ]
         },
         "layout": {
          "annotationdefaults": {
           "arrowcolor": "#2a3f5f",
           "arrowhead": 0,
           "arrowwidth": 1
          },
          "autotypenumbers": "strict",
          "coloraxis": {
           "colorbar": {
            "outlinewidth": 0,
            "ticks": ""
           }
          },
          "colorscale": {
           "diverging": [
            [
             0,
             "#8e0152"
            ],
            [
             0.1,
             "#c51b7d"
            ],
            [
             0.2,
             "#de77ae"
            ],
            [
             0.3,
             "#f1b6da"
            ],
            [
             0.4,
             "#fde0ef"
            ],
            [
             0.5,
             "#f7f7f7"
            ],
            [
             0.6,
             "#e6f5d0"
            ],
            [
             0.7,
             "#b8e186"
            ],
            [
             0.8,
             "#7fbc41"
            ],
            [
             0.9,
             "#4d9221"
            ],
            [
             1,
             "#276419"
            ]
           ],
           "sequential": [
            [
             0,
             "#0d0887"
            ],
            [
             0.1111111111111111,
             "#46039f"
            ],
            [
             0.2222222222222222,
             "#7201a8"
            ],
            [
             0.3333333333333333,
             "#9c179e"
            ],
            [
             0.4444444444444444,
             "#bd3786"
            ],
            [
             0.5555555555555556,
             "#d8576b"
            ],
            [
             0.6666666666666666,
             "#ed7953"
            ],
            [
             0.7777777777777778,
             "#fb9f3a"
            ],
            [
             0.8888888888888888,
             "#fdca26"
            ],
            [
             1,
             "#f0f921"
            ]
           ],
           "sequentialminus": [
            [
             0,
             "#0d0887"
            ],
            [
             0.1111111111111111,
             "#46039f"
            ],
            [
             0.2222222222222222,
             "#7201a8"
            ],
            [
             0.3333333333333333,
             "#9c179e"
            ],
            [
             0.4444444444444444,
             "#bd3786"
            ],
            [
             0.5555555555555556,
             "#d8576b"
            ],
            [
             0.6666666666666666,
             "#ed7953"
            ],
            [
             0.7777777777777778,
             "#fb9f3a"
            ],
            [
             0.8888888888888888,
             "#fdca26"
            ],
            [
             1,
             "#f0f921"
            ]
           ]
          },
          "colorway": [
           "#636efa",
           "#EF553B",
           "#00cc96",
           "#ab63fa",
           "#FFA15A",
           "#19d3f3",
           "#FF6692",
           "#B6E880",
           "#FF97FF",
           "#FECB52"
          ],
          "font": {
           "color": "#2a3f5f"
          },
          "geo": {
           "bgcolor": "white",
           "lakecolor": "white",
           "landcolor": "#E5ECF6",
           "showlakes": true,
           "showland": true,
           "subunitcolor": "white"
          },
          "hoverlabel": {
           "align": "left"
          },
          "hovermode": "closest",
          "mapbox": {
           "style": "light"
          },
          "paper_bgcolor": "white",
          "plot_bgcolor": "#E5ECF6",
          "polar": {
           "angularaxis": {
            "gridcolor": "white",
            "linecolor": "white",
            "ticks": ""
           },
           "bgcolor": "#E5ECF6",
           "radialaxis": {
            "gridcolor": "white",
            "linecolor": "white",
            "ticks": ""
           }
          },
          "scene": {
           "xaxis": {
            "backgroundcolor": "#E5ECF6",
            "gridcolor": "white",
            "gridwidth": 2,
            "linecolor": "white",
            "showbackground": true,
            "ticks": "",
            "zerolinecolor": "white"
           },
           "yaxis": {
            "backgroundcolor": "#E5ECF6",
            "gridcolor": "white",
            "gridwidth": 2,
            "linecolor": "white",
            "showbackground": true,
            "ticks": "",
            "zerolinecolor": "white"
           },
           "zaxis": {
            "backgroundcolor": "#E5ECF6",
            "gridcolor": "white",
            "gridwidth": 2,
            "linecolor": "white",
            "showbackground": true,
            "ticks": "",
            "zerolinecolor": "white"
           }
          },
          "shapedefaults": {
           "line": {
            "color": "#2a3f5f"
           }
          },
          "ternary": {
           "aaxis": {
            "gridcolor": "white",
            "linecolor": "white",
            "ticks": ""
           },
           "baxis": {
            "gridcolor": "white",
            "linecolor": "white",
            "ticks": ""
           },
           "bgcolor": "#E5ECF6",
           "caxis": {
            "gridcolor": "white",
            "linecolor": "white",
            "ticks": ""
           }
          },
          "title": {
           "x": 0.05
          },
          "xaxis": {
           "automargin": true,
           "gridcolor": "white",
           "linecolor": "white",
           "ticks": "",
           "title": {
            "standoff": 15
           },
           "zerolinecolor": "white",
           "zerolinewidth": 2
          },
          "yaxis": {
           "automargin": true,
           "gridcolor": "white",
           "linecolor": "white",
           "ticks": "",
           "title": {
            "standoff": 15
           },
           "zerolinecolor": "white",
           "zerolinewidth": 2
          }
         }
        },
        "title": {
         "text": "Conjuntos"
        },
        "width": 800,
        "xaxis": {
         "anchor": "y",
         "domain": [
          0,
          1
         ]
        },
        "xaxis2": {
         "anchor": "y2",
         "domain": [
          0,
          1
         ]
        },
        "xaxis3": {
         "anchor": "y3",
         "domain": [
          0,
          1
         ]
        },
        "xaxis4": {
         "anchor": "y4",
         "domain": [
          0,
          1
         ]
        },
        "xaxis5": {
         "anchor": "y5",
         "domain": [
          0,
          1
         ]
        },
        "yaxis": {
         "anchor": "x",
         "domain": [
          0.848,
          1
         ]
        },
        "yaxis2": {
         "anchor": "x2",
         "domain": [
          0.6359999999999999,
          0.7879999999999999
         ]
        },
        "yaxis3": {
         "anchor": "x3",
         "domain": [
          0.424,
          0.576
         ]
        },
        "yaxis4": {
         "anchor": "x4",
         "domain": [
          0.212,
          0.364
         ]
        },
        "yaxis5": {
         "anchor": "x5",
         "domain": [
          0,
          0.152
         ]
        }
       }
      }
     },
     "metadata": {},
     "output_type": "display_data"
    }
   ],
   "source": [
    "fig = make_subplots(rows=len(conjuntos), cols=1)\n",
    "\n",
    "for i, c in enumerate(conjuntos):\n",
    "    print(i)\n",
    "    fig.add_trace(graficar_conjunto_difuso(interfaz_difusion, c), row = i+1, col = 1)\n",
    "    # graficar_conjunto_difuso(interfaz_difusion, c).show()\n",
    "    # break\n",
    "\n",
    "fig.update_layout(height=600, width=800, title_text=\"Conjuntos\")\n",
    "fig.show()\n",
    "\n",
    "                  \n",
    "    "
   ]
  },
  {
   "attachments": {},
   "cell_type": "markdown",
   "metadata": {},
   "source": [
    "# Testing de base de reglas"
   ]
  },
  {
   "cell_type": "code",
   "execution_count": 4,
   "metadata": {},
   "outputs": [],
   "source": [
    "# Escribimos la lista con reglas difusas\n",
    "reglas = [\n",
    "    {'entrada1': [ng, np], \n",
    "     'entrada2': [ng, np], \n",
    "     'salida'  : pg},\n",
    "\n",
    "     {'entrada1': [np, pp], \n",
    "     'entrada2': [ng, ng], \n",
    "     'salida'  : pg},\n",
    "\n",
    "     {'entrada1': [pp, pg], \n",
    "     'entrada2': [np, np], \n",
    "     'salida'  : pp},\n",
    "\n",
    "     {'entrada1': [ce,ce], \n",
    "     'entrada2': [np, np], \n",
    "     'salida'  : ce},\n",
    "\n",
    "     {'entrada1': [ce,ce], \n",
    "     'entrada2': [pp,pp], \n",
    "     'salida'  : ce},\n",
    "\n",
    "     {'entrada1': [ng, np], \n",
    "     'entrada2': [pp,pp], \n",
    "     'salida'  : np},\n",
    "\n",
    "     {'entrada1': [ng, pp], \n",
    "     'entrada2': [ng, ng], \n",
    "     'salida'  : ng},\n",
    "\n",
    "     {'entrada1': [pp, pg], \n",
    "     'entrada2': [pp, pg], \n",
    "     'salida'  : ng},\n",
    "]"
   ]
  },
  {
   "cell_type": "code",
   "execution_count": 10,
   "metadata": {},
   "outputs": [
    {
     "data": {
      "text/html": [
       "<div>\n",
       "<style scoped>\n",
       "    .dataframe tbody tr th:only-of-type {\n",
       "        vertical-align: middle;\n",
       "    }\n",
       "\n",
       "    .dataframe tbody tr th {\n",
       "        vertical-align: top;\n",
       "    }\n",
       "\n",
       "    .dataframe thead th {\n",
       "        text-align: right;\n",
       "    }\n",
       "</style>\n",
       "<table border=\"1\" class=\"dataframe\">\n",
       "  <thead>\n",
       "    <tr style=\"text-align: right;\">\n",
       "      <th></th>\n",
       "      <th>x</th>\n",
       "      <th>r0_e1</th>\n",
       "      <th>r1_e1</th>\n",
       "      <th>r2_e1</th>\n",
       "      <th>r3_e1</th>\n",
       "      <th>r4_e1</th>\n",
       "      <th>r5_e1</th>\n",
       "      <th>r6_e1</th>\n",
       "      <th>r7_e1</th>\n",
       "      <th>r0_e2</th>\n",
       "      <th>...</th>\n",
       "      <th>r6_e2</th>\n",
       "      <th>r7_e2</th>\n",
       "      <th>s0</th>\n",
       "      <th>s1</th>\n",
       "      <th>s2</th>\n",
       "      <th>s3</th>\n",
       "      <th>s4</th>\n",
       "      <th>s5</th>\n",
       "      <th>s6</th>\n",
       "      <th>s7</th>\n",
       "    </tr>\n",
       "  </thead>\n",
       "  <tbody>\n",
       "    <tr>\n",
       "      <th>0</th>\n",
       "      <td>-1.000000</td>\n",
       "      <td>1.000000</td>\n",
       "      <td>0.000000</td>\n",
       "      <td>0.000000</td>\n",
       "      <td>0.000000</td>\n",
       "      <td>0.000000</td>\n",
       "      <td>1.000000</td>\n",
       "      <td>1.000000</td>\n",
       "      <td>0.000000</td>\n",
       "      <td>1.000000</td>\n",
       "      <td>...</td>\n",
       "      <td>1.000000</td>\n",
       "      <td>0.000000</td>\n",
       "      <td>0.000000</td>\n",
       "      <td>0.000000</td>\n",
       "      <td>0.000000</td>\n",
       "      <td>0.000000</td>\n",
       "      <td>0.000000</td>\n",
       "      <td>0.000000</td>\n",
       "      <td>1.000000</td>\n",
       "      <td>1.000000</td>\n",
       "    </tr>\n",
       "    <tr>\n",
       "      <th>1</th>\n",
       "      <td>-0.959184</td>\n",
       "      <td>1.000000</td>\n",
       "      <td>0.000000</td>\n",
       "      <td>0.000000</td>\n",
       "      <td>0.000000</td>\n",
       "      <td>0.000000</td>\n",
       "      <td>1.000000</td>\n",
       "      <td>1.000000</td>\n",
       "      <td>0.000000</td>\n",
       "      <td>1.000000</td>\n",
       "      <td>...</td>\n",
       "      <td>1.000000</td>\n",
       "      <td>0.000000</td>\n",
       "      <td>0.000000</td>\n",
       "      <td>0.000000</td>\n",
       "      <td>0.000000</td>\n",
       "      <td>0.000000</td>\n",
       "      <td>0.000000</td>\n",
       "      <td>0.000000</td>\n",
       "      <td>1.000000</td>\n",
       "      <td>1.000000</td>\n",
       "    </tr>\n",
       "    <tr>\n",
       "      <th>2</th>\n",
       "      <td>-0.918367</td>\n",
       "      <td>1.000000</td>\n",
       "      <td>0.000000</td>\n",
       "      <td>0.000000</td>\n",
       "      <td>0.000000</td>\n",
       "      <td>0.000000</td>\n",
       "      <td>1.000000</td>\n",
       "      <td>1.000000</td>\n",
       "      <td>0.000000</td>\n",
       "      <td>1.000000</td>\n",
       "      <td>...</td>\n",
       "      <td>1.000000</td>\n",
       "      <td>0.000000</td>\n",
       "      <td>0.000000</td>\n",
       "      <td>0.000000</td>\n",
       "      <td>0.000000</td>\n",
       "      <td>0.000000</td>\n",
       "      <td>0.000000</td>\n",
       "      <td>0.000000</td>\n",
       "      <td>1.000000</td>\n",
       "      <td>1.000000</td>\n",
       "    </tr>\n",
       "    <tr>\n",
       "      <th>3</th>\n",
       "      <td>-0.877551</td>\n",
       "      <td>1.000000</td>\n",
       "      <td>0.000000</td>\n",
       "      <td>0.000000</td>\n",
       "      <td>0.000000</td>\n",
       "      <td>0.000000</td>\n",
       "      <td>1.000000</td>\n",
       "      <td>1.000000</td>\n",
       "      <td>0.000000</td>\n",
       "      <td>1.000000</td>\n",
       "      <td>...</td>\n",
       "      <td>1.000000</td>\n",
       "      <td>0.000000</td>\n",
       "      <td>0.000000</td>\n",
       "      <td>0.000000</td>\n",
       "      <td>0.000000</td>\n",
       "      <td>0.000000</td>\n",
       "      <td>0.000000</td>\n",
       "      <td>0.000000</td>\n",
       "      <td>1.000000</td>\n",
       "      <td>1.000000</td>\n",
       "    </tr>\n",
       "    <tr>\n",
       "      <th>4</th>\n",
       "      <td>-0.836735</td>\n",
       "      <td>1.000000</td>\n",
       "      <td>0.000000</td>\n",
       "      <td>0.000000</td>\n",
       "      <td>0.000000</td>\n",
       "      <td>0.000000</td>\n",
       "      <td>1.000000</td>\n",
       "      <td>1.000000</td>\n",
       "      <td>0.000000</td>\n",
       "      <td>1.000000</td>\n",
       "      <td>...</td>\n",
       "      <td>1.000000</td>\n",
       "      <td>0.000000</td>\n",
       "      <td>0.000000</td>\n",
       "      <td>0.000000</td>\n",
       "      <td>0.000000</td>\n",
       "      <td>0.000000</td>\n",
       "      <td>0.000000</td>\n",
       "      <td>0.000000</td>\n",
       "      <td>1.000000</td>\n",
       "      <td>1.000000</td>\n",
       "    </tr>\n",
       "    <tr>\n",
       "      <th>5</th>\n",
       "      <td>-0.795918</td>\n",
       "      <td>0.994898</td>\n",
       "      <td>0.020408</td>\n",
       "      <td>0.000000</td>\n",
       "      <td>0.000000</td>\n",
       "      <td>0.000000</td>\n",
       "      <td>0.994898</td>\n",
       "      <td>0.997449</td>\n",
       "      <td>0.000000</td>\n",
       "      <td>0.994898</td>\n",
       "      <td>...</td>\n",
       "      <td>0.979592</td>\n",
       "      <td>0.000000</td>\n",
       "      <td>0.000000</td>\n",
       "      <td>0.000000</td>\n",
       "      <td>0.000000</td>\n",
       "      <td>0.000000</td>\n",
       "      <td>0.000000</td>\n",
       "      <td>0.020408</td>\n",
       "      <td>0.979592</td>\n",
       "      <td>0.979592</td>\n",
       "    </tr>\n",
       "    <tr>\n",
       "      <th>6</th>\n",
       "      <td>-0.755102</td>\n",
       "      <td>0.943878</td>\n",
       "      <td>0.224490</td>\n",
       "      <td>0.000000</td>\n",
       "      <td>0.000000</td>\n",
       "      <td>0.000000</td>\n",
       "      <td>0.943878</td>\n",
       "      <td>0.971939</td>\n",
       "      <td>0.000000</td>\n",
       "      <td>0.943878</td>\n",
       "      <td>...</td>\n",
       "      <td>0.775510</td>\n",
       "      <td>0.000000</td>\n",
       "      <td>0.000000</td>\n",
       "      <td>0.000000</td>\n",
       "      <td>0.000000</td>\n",
       "      <td>0.000000</td>\n",
       "      <td>0.000000</td>\n",
       "      <td>0.224490</td>\n",
       "      <td>0.775510</td>\n",
       "      <td>0.775510</td>\n",
       "    </tr>\n",
       "    <tr>\n",
       "      <th>7</th>\n",
       "      <td>-0.714286</td>\n",
       "      <td>0.892857</td>\n",
       "      <td>0.428571</td>\n",
       "      <td>0.000000</td>\n",
       "      <td>0.000000</td>\n",
       "      <td>0.000000</td>\n",
       "      <td>0.892857</td>\n",
       "      <td>0.946429</td>\n",
       "      <td>0.000000</td>\n",
       "      <td>0.892857</td>\n",
       "      <td>...</td>\n",
       "      <td>0.571429</td>\n",
       "      <td>0.000000</td>\n",
       "      <td>0.000000</td>\n",
       "      <td>0.000000</td>\n",
       "      <td>0.000000</td>\n",
       "      <td>0.000000</td>\n",
       "      <td>0.000000</td>\n",
       "      <td>0.428571</td>\n",
       "      <td>0.571429</td>\n",
       "      <td>0.571429</td>\n",
       "    </tr>\n",
       "    <tr>\n",
       "      <th>8</th>\n",
       "      <td>-0.673469</td>\n",
       "      <td>0.841837</td>\n",
       "      <td>0.632653</td>\n",
       "      <td>0.000000</td>\n",
       "      <td>0.000000</td>\n",
       "      <td>0.000000</td>\n",
       "      <td>0.841837</td>\n",
       "      <td>0.920918</td>\n",
       "      <td>0.000000</td>\n",
       "      <td>0.841837</td>\n",
       "      <td>...</td>\n",
       "      <td>0.367347</td>\n",
       "      <td>0.000000</td>\n",
       "      <td>0.000000</td>\n",
       "      <td>0.000000</td>\n",
       "      <td>0.000000</td>\n",
       "      <td>0.000000</td>\n",
       "      <td>0.000000</td>\n",
       "      <td>0.632653</td>\n",
       "      <td>0.367347</td>\n",
       "      <td>0.367347</td>\n",
       "    </tr>\n",
       "    <tr>\n",
       "      <th>9</th>\n",
       "      <td>-0.632653</td>\n",
       "      <td>0.790816</td>\n",
       "      <td>0.836735</td>\n",
       "      <td>0.000000</td>\n",
       "      <td>0.000000</td>\n",
       "      <td>0.000000</td>\n",
       "      <td>0.790816</td>\n",
       "      <td>0.895408</td>\n",
       "      <td>0.000000</td>\n",
       "      <td>0.790816</td>\n",
       "      <td>...</td>\n",
       "      <td>0.163265</td>\n",
       "      <td>0.000000</td>\n",
       "      <td>0.000000</td>\n",
       "      <td>0.000000</td>\n",
       "      <td>0.000000</td>\n",
       "      <td>0.000000</td>\n",
       "      <td>0.000000</td>\n",
       "      <td>0.836735</td>\n",
       "      <td>0.163265</td>\n",
       "      <td>0.163265</td>\n",
       "    </tr>\n",
       "    <tr>\n",
       "      <th>10</th>\n",
       "      <td>-0.591837</td>\n",
       "      <td>0.739796</td>\n",
       "      <td>1.000000</td>\n",
       "      <td>0.000000</td>\n",
       "      <td>0.000000</td>\n",
       "      <td>0.000000</td>\n",
       "      <td>0.739796</td>\n",
       "      <td>0.869898</td>\n",
       "      <td>0.000000</td>\n",
       "      <td>0.739796</td>\n",
       "      <td>...</td>\n",
       "      <td>0.000000</td>\n",
       "      <td>0.000000</td>\n",
       "      <td>0.000000</td>\n",
       "      <td>0.000000</td>\n",
       "      <td>0.000000</td>\n",
       "      <td>0.000000</td>\n",
       "      <td>0.000000</td>\n",
       "      <td>1.000000</td>\n",
       "      <td>0.000000</td>\n",
       "      <td>0.000000</td>\n",
       "    </tr>\n",
       "    <tr>\n",
       "      <th>11</th>\n",
       "      <td>-0.551020</td>\n",
       "      <td>0.688776</td>\n",
       "      <td>1.000000</td>\n",
       "      <td>0.000000</td>\n",
       "      <td>0.000000</td>\n",
       "      <td>0.000000</td>\n",
       "      <td>0.688776</td>\n",
       "      <td>0.844388</td>\n",
       "      <td>0.000000</td>\n",
       "      <td>0.688776</td>\n",
       "      <td>...</td>\n",
       "      <td>0.000000</td>\n",
       "      <td>0.000000</td>\n",
       "      <td>0.000000</td>\n",
       "      <td>0.000000</td>\n",
       "      <td>0.000000</td>\n",
       "      <td>0.000000</td>\n",
       "      <td>0.000000</td>\n",
       "      <td>1.000000</td>\n",
       "      <td>0.000000</td>\n",
       "      <td>0.000000</td>\n",
       "    </tr>\n",
       "    <tr>\n",
       "      <th>12</th>\n",
       "      <td>-0.510204</td>\n",
       "      <td>0.637755</td>\n",
       "      <td>1.000000</td>\n",
       "      <td>0.000000</td>\n",
       "      <td>0.000000</td>\n",
       "      <td>0.000000</td>\n",
       "      <td>0.637755</td>\n",
       "      <td>0.818878</td>\n",
       "      <td>0.000000</td>\n",
       "      <td>0.637755</td>\n",
       "      <td>...</td>\n",
       "      <td>0.000000</td>\n",
       "      <td>0.000000</td>\n",
       "      <td>0.000000</td>\n",
       "      <td>0.000000</td>\n",
       "      <td>0.000000</td>\n",
       "      <td>0.000000</td>\n",
       "      <td>0.000000</td>\n",
       "      <td>1.000000</td>\n",
       "      <td>0.000000</td>\n",
       "      <td>0.000000</td>\n",
       "    </tr>\n",
       "    <tr>\n",
       "      <th>13</th>\n",
       "      <td>-0.469388</td>\n",
       "      <td>0.586735</td>\n",
       "      <td>1.000000</td>\n",
       "      <td>0.000000</td>\n",
       "      <td>0.000000</td>\n",
       "      <td>0.000000</td>\n",
       "      <td>0.586735</td>\n",
       "      <td>0.793367</td>\n",
       "      <td>0.000000</td>\n",
       "      <td>0.586735</td>\n",
       "      <td>...</td>\n",
       "      <td>0.000000</td>\n",
       "      <td>0.000000</td>\n",
       "      <td>0.000000</td>\n",
       "      <td>0.000000</td>\n",
       "      <td>0.000000</td>\n",
       "      <td>0.000000</td>\n",
       "      <td>0.000000</td>\n",
       "      <td>1.000000</td>\n",
       "      <td>0.000000</td>\n",
       "      <td>0.000000</td>\n",
       "    </tr>\n",
       "    <tr>\n",
       "      <th>14</th>\n",
       "      <td>-0.428571</td>\n",
       "      <td>0.535714</td>\n",
       "      <td>1.000000</td>\n",
       "      <td>0.000000</td>\n",
       "      <td>0.000000</td>\n",
       "      <td>0.000000</td>\n",
       "      <td>0.535714</td>\n",
       "      <td>0.767857</td>\n",
       "      <td>0.000000</td>\n",
       "      <td>0.535714</td>\n",
       "      <td>...</td>\n",
       "      <td>0.000000</td>\n",
       "      <td>0.000000</td>\n",
       "      <td>0.000000</td>\n",
       "      <td>0.000000</td>\n",
       "      <td>0.000000</td>\n",
       "      <td>0.000000</td>\n",
       "      <td>0.000000</td>\n",
       "      <td>1.000000</td>\n",
       "      <td>0.000000</td>\n",
       "      <td>0.000000</td>\n",
       "    </tr>\n",
       "    <tr>\n",
       "      <th>15</th>\n",
       "      <td>-0.387755</td>\n",
       "      <td>0.484694</td>\n",
       "      <td>1.000000</td>\n",
       "      <td>0.000000</td>\n",
       "      <td>0.000000</td>\n",
       "      <td>0.000000</td>\n",
       "      <td>0.484694</td>\n",
       "      <td>0.742347</td>\n",
       "      <td>0.000000</td>\n",
       "      <td>0.484694</td>\n",
       "      <td>...</td>\n",
       "      <td>0.000000</td>\n",
       "      <td>0.000000</td>\n",
       "      <td>0.000000</td>\n",
       "      <td>0.000000</td>\n",
       "      <td>0.000000</td>\n",
       "      <td>0.000000</td>\n",
       "      <td>0.000000</td>\n",
       "      <td>1.000000</td>\n",
       "      <td>0.000000</td>\n",
       "      <td>0.000000</td>\n",
       "    </tr>\n",
       "    <tr>\n",
       "      <th>16</th>\n",
       "      <td>-0.346939</td>\n",
       "      <td>0.433673</td>\n",
       "      <td>1.000000</td>\n",
       "      <td>0.000000</td>\n",
       "      <td>0.000000</td>\n",
       "      <td>0.000000</td>\n",
       "      <td>0.433673</td>\n",
       "      <td>0.716837</td>\n",
       "      <td>0.000000</td>\n",
       "      <td>0.433673</td>\n",
       "      <td>...</td>\n",
       "      <td>0.000000</td>\n",
       "      <td>0.000000</td>\n",
       "      <td>0.000000</td>\n",
       "      <td>0.000000</td>\n",
       "      <td>0.000000</td>\n",
       "      <td>0.000000</td>\n",
       "      <td>0.000000</td>\n",
       "      <td>1.000000</td>\n",
       "      <td>0.000000</td>\n",
       "      <td>0.000000</td>\n",
       "    </tr>\n",
       "    <tr>\n",
       "      <th>17</th>\n",
       "      <td>-0.306122</td>\n",
       "      <td>0.382653</td>\n",
       "      <td>1.000000</td>\n",
       "      <td>0.000000</td>\n",
       "      <td>0.000000</td>\n",
       "      <td>0.000000</td>\n",
       "      <td>0.382653</td>\n",
       "      <td>0.691327</td>\n",
       "      <td>0.000000</td>\n",
       "      <td>0.382653</td>\n",
       "      <td>...</td>\n",
       "      <td>0.000000</td>\n",
       "      <td>0.000000</td>\n",
       "      <td>0.000000</td>\n",
       "      <td>0.000000</td>\n",
       "      <td>0.000000</td>\n",
       "      <td>0.000000</td>\n",
       "      <td>0.000000</td>\n",
       "      <td>1.000000</td>\n",
       "      <td>0.000000</td>\n",
       "      <td>0.000000</td>\n",
       "    </tr>\n",
       "    <tr>\n",
       "      <th>18</th>\n",
       "      <td>-0.265306</td>\n",
       "      <td>0.331633</td>\n",
       "      <td>1.000000</td>\n",
       "      <td>0.000000</td>\n",
       "      <td>0.000000</td>\n",
       "      <td>0.000000</td>\n",
       "      <td>0.331633</td>\n",
       "      <td>0.665816</td>\n",
       "      <td>0.000000</td>\n",
       "      <td>0.331633</td>\n",
       "      <td>...</td>\n",
       "      <td>0.000000</td>\n",
       "      <td>0.000000</td>\n",
       "      <td>0.000000</td>\n",
       "      <td>0.000000</td>\n",
       "      <td>0.000000</td>\n",
       "      <td>0.000000</td>\n",
       "      <td>0.000000</td>\n",
       "      <td>1.000000</td>\n",
       "      <td>0.000000</td>\n",
       "      <td>0.000000</td>\n",
       "    </tr>\n",
       "    <tr>\n",
       "      <th>19</th>\n",
       "      <td>-0.224490</td>\n",
       "      <td>0.280612</td>\n",
       "      <td>1.000000</td>\n",
       "      <td>0.000000</td>\n",
       "      <td>0.000000</td>\n",
       "      <td>0.000000</td>\n",
       "      <td>0.280612</td>\n",
       "      <td>0.640306</td>\n",
       "      <td>0.000000</td>\n",
       "      <td>0.280612</td>\n",
       "      <td>...</td>\n",
       "      <td>0.000000</td>\n",
       "      <td>0.000000</td>\n",
       "      <td>0.000000</td>\n",
       "      <td>0.000000</td>\n",
       "      <td>0.000000</td>\n",
       "      <td>0.000000</td>\n",
       "      <td>0.000000</td>\n",
       "      <td>1.000000</td>\n",
       "      <td>0.000000</td>\n",
       "      <td>0.000000</td>\n",
       "    </tr>\n",
       "    <tr>\n",
       "      <th>20</th>\n",
       "      <td>-0.183673</td>\n",
       "      <td>0.229592</td>\n",
       "      <td>0.983673</td>\n",
       "      <td>0.000000</td>\n",
       "      <td>0.081633</td>\n",
       "      <td>0.081633</td>\n",
       "      <td>0.229592</td>\n",
       "      <td>0.614796</td>\n",
       "      <td>0.000000</td>\n",
       "      <td>0.229592</td>\n",
       "      <td>...</td>\n",
       "      <td>0.000000</td>\n",
       "      <td>0.000000</td>\n",
       "      <td>0.000000</td>\n",
       "      <td>0.000000</td>\n",
       "      <td>0.000000</td>\n",
       "      <td>0.081633</td>\n",
       "      <td>0.081633</td>\n",
       "      <td>0.918367</td>\n",
       "      <td>0.000000</td>\n",
       "      <td>0.000000</td>\n",
       "    </tr>\n",
       "    <tr>\n",
       "      <th>21</th>\n",
       "      <td>-0.142857</td>\n",
       "      <td>0.178571</td>\n",
       "      <td>0.942857</td>\n",
       "      <td>0.000000</td>\n",
       "      <td>0.285714</td>\n",
       "      <td>0.285714</td>\n",
       "      <td>0.178571</td>\n",
       "      <td>0.589286</td>\n",
       "      <td>0.000000</td>\n",
       "      <td>0.178571</td>\n",
       "      <td>...</td>\n",
       "      <td>0.000000</td>\n",
       "      <td>0.000000</td>\n",
       "      <td>0.000000</td>\n",
       "      <td>0.000000</td>\n",
       "      <td>0.000000</td>\n",
       "      <td>0.285714</td>\n",
       "      <td>0.285714</td>\n",
       "      <td>0.714286</td>\n",
       "      <td>0.000000</td>\n",
       "      <td>0.000000</td>\n",
       "    </tr>\n",
       "    <tr>\n",
       "      <th>22</th>\n",
       "      <td>-0.102041</td>\n",
       "      <td>0.127551</td>\n",
       "      <td>0.902041</td>\n",
       "      <td>0.000000</td>\n",
       "      <td>0.489796</td>\n",
       "      <td>0.489796</td>\n",
       "      <td>0.127551</td>\n",
       "      <td>0.563776</td>\n",
       "      <td>0.000000</td>\n",
       "      <td>0.127551</td>\n",
       "      <td>...</td>\n",
       "      <td>0.000000</td>\n",
       "      <td>0.000000</td>\n",
       "      <td>0.000000</td>\n",
       "      <td>0.000000</td>\n",
       "      <td>0.000000</td>\n",
       "      <td>0.489796</td>\n",
       "      <td>0.489796</td>\n",
       "      <td>0.510204</td>\n",
       "      <td>0.000000</td>\n",
       "      <td>0.000000</td>\n",
       "    </tr>\n",
       "    <tr>\n",
       "      <th>23</th>\n",
       "      <td>-0.061224</td>\n",
       "      <td>0.076531</td>\n",
       "      <td>0.861224</td>\n",
       "      <td>0.000000</td>\n",
       "      <td>0.693878</td>\n",
       "      <td>0.693878</td>\n",
       "      <td>0.076531</td>\n",
       "      <td>0.538265</td>\n",
       "      <td>0.000000</td>\n",
       "      <td>0.076531</td>\n",
       "      <td>...</td>\n",
       "      <td>0.000000</td>\n",
       "      <td>0.000000</td>\n",
       "      <td>0.000000</td>\n",
       "      <td>0.000000</td>\n",
       "      <td>0.000000</td>\n",
       "      <td>0.693878</td>\n",
       "      <td>0.693878</td>\n",
       "      <td>0.306122</td>\n",
       "      <td>0.000000</td>\n",
       "      <td>0.000000</td>\n",
       "    </tr>\n",
       "    <tr>\n",
       "      <th>24</th>\n",
       "      <td>-0.020408</td>\n",
       "      <td>0.025510</td>\n",
       "      <td>0.820408</td>\n",
       "      <td>0.000000</td>\n",
       "      <td>0.897959</td>\n",
       "      <td>0.897959</td>\n",
       "      <td>0.025510</td>\n",
       "      <td>0.512755</td>\n",
       "      <td>0.000000</td>\n",
       "      <td>0.025510</td>\n",
       "      <td>...</td>\n",
       "      <td>0.000000</td>\n",
       "      <td>0.000000</td>\n",
       "      <td>0.000000</td>\n",
       "      <td>0.000000</td>\n",
       "      <td>0.000000</td>\n",
       "      <td>0.897959</td>\n",
       "      <td>0.897959</td>\n",
       "      <td>0.102041</td>\n",
       "      <td>0.000000</td>\n",
       "      <td>0.000000</td>\n",
       "    </tr>\n",
       "    <tr>\n",
       "      <th>25</th>\n",
       "      <td>0.020408</td>\n",
       "      <td>0.000000</td>\n",
       "      <td>0.779592</td>\n",
       "      <td>0.102041</td>\n",
       "      <td>0.897959</td>\n",
       "      <td>0.897959</td>\n",
       "      <td>0.000000</td>\n",
       "      <td>0.487245</td>\n",
       "      <td>0.102041</td>\n",
       "      <td>0.000000</td>\n",
       "      <td>...</td>\n",
       "      <td>0.000000</td>\n",
       "      <td>0.102041</td>\n",
       "      <td>0.000000</td>\n",
       "      <td>0.000000</td>\n",
       "      <td>0.102041</td>\n",
       "      <td>0.897959</td>\n",
       "      <td>0.897959</td>\n",
       "      <td>0.000000</td>\n",
       "      <td>0.000000</td>\n",
       "      <td>0.000000</td>\n",
       "    </tr>\n",
       "    <tr>\n",
       "      <th>26</th>\n",
       "      <td>0.061224</td>\n",
       "      <td>0.000000</td>\n",
       "      <td>0.738776</td>\n",
       "      <td>0.306122</td>\n",
       "      <td>0.693878</td>\n",
       "      <td>0.693878</td>\n",
       "      <td>0.000000</td>\n",
       "      <td>0.461735</td>\n",
       "      <td>0.306122</td>\n",
       "      <td>0.000000</td>\n",
       "      <td>...</td>\n",
       "      <td>0.000000</td>\n",
       "      <td>0.306122</td>\n",
       "      <td>0.000000</td>\n",
       "      <td>0.000000</td>\n",
       "      <td>0.306122</td>\n",
       "      <td>0.693878</td>\n",
       "      <td>0.693878</td>\n",
       "      <td>0.000000</td>\n",
       "      <td>0.000000</td>\n",
       "      <td>0.000000</td>\n",
       "    </tr>\n",
       "    <tr>\n",
       "      <th>27</th>\n",
       "      <td>0.102041</td>\n",
       "      <td>0.000000</td>\n",
       "      <td>0.697959</td>\n",
       "      <td>0.510204</td>\n",
       "      <td>0.489796</td>\n",
       "      <td>0.489796</td>\n",
       "      <td>0.000000</td>\n",
       "      <td>0.436224</td>\n",
       "      <td>0.510204</td>\n",
       "      <td>0.000000</td>\n",
       "      <td>...</td>\n",
       "      <td>0.000000</td>\n",
       "      <td>0.510204</td>\n",
       "      <td>0.000000</td>\n",
       "      <td>0.000000</td>\n",
       "      <td>0.510204</td>\n",
       "      <td>0.489796</td>\n",
       "      <td>0.489796</td>\n",
       "      <td>0.000000</td>\n",
       "      <td>0.000000</td>\n",
       "      <td>0.000000</td>\n",
       "    </tr>\n",
       "    <tr>\n",
       "      <th>28</th>\n",
       "      <td>0.142857</td>\n",
       "      <td>0.000000</td>\n",
       "      <td>0.657143</td>\n",
       "      <td>0.714286</td>\n",
       "      <td>0.285714</td>\n",
       "      <td>0.285714</td>\n",
       "      <td>0.000000</td>\n",
       "      <td>0.410714</td>\n",
       "      <td>0.714286</td>\n",
       "      <td>0.000000</td>\n",
       "      <td>...</td>\n",
       "      <td>0.000000</td>\n",
       "      <td>0.714286</td>\n",
       "      <td>0.000000</td>\n",
       "      <td>0.000000</td>\n",
       "      <td>0.714286</td>\n",
       "      <td>0.285714</td>\n",
       "      <td>0.285714</td>\n",
       "      <td>0.000000</td>\n",
       "      <td>0.000000</td>\n",
       "      <td>0.000000</td>\n",
       "    </tr>\n",
       "    <tr>\n",
       "      <th>29</th>\n",
       "      <td>0.183673</td>\n",
       "      <td>0.000000</td>\n",
       "      <td>0.616327</td>\n",
       "      <td>0.918367</td>\n",
       "      <td>0.081633</td>\n",
       "      <td>0.081633</td>\n",
       "      <td>0.000000</td>\n",
       "      <td>0.385204</td>\n",
       "      <td>0.918367</td>\n",
       "      <td>0.000000</td>\n",
       "      <td>...</td>\n",
       "      <td>0.000000</td>\n",
       "      <td>0.918367</td>\n",
       "      <td>0.000000</td>\n",
       "      <td>0.000000</td>\n",
       "      <td>0.918367</td>\n",
       "      <td>0.081633</td>\n",
       "      <td>0.081633</td>\n",
       "      <td>0.000000</td>\n",
       "      <td>0.000000</td>\n",
       "      <td>0.000000</td>\n",
       "    </tr>\n",
       "    <tr>\n",
       "      <th>30</th>\n",
       "      <td>0.224490</td>\n",
       "      <td>0.000000</td>\n",
       "      <td>0.575510</td>\n",
       "      <td>1.000000</td>\n",
       "      <td>0.000000</td>\n",
       "      <td>0.000000</td>\n",
       "      <td>0.000000</td>\n",
       "      <td>0.359694</td>\n",
       "      <td>1.000000</td>\n",
       "      <td>0.000000</td>\n",
       "      <td>...</td>\n",
       "      <td>0.000000</td>\n",
       "      <td>1.000000</td>\n",
       "      <td>0.000000</td>\n",
       "      <td>0.000000</td>\n",
       "      <td>1.000000</td>\n",
       "      <td>0.000000</td>\n",
       "      <td>0.000000</td>\n",
       "      <td>0.000000</td>\n",
       "      <td>0.000000</td>\n",
       "      <td>0.000000</td>\n",
       "    </tr>\n",
       "    <tr>\n",
       "      <th>31</th>\n",
       "      <td>0.265306</td>\n",
       "      <td>0.000000</td>\n",
       "      <td>0.534694</td>\n",
       "      <td>1.000000</td>\n",
       "      <td>0.000000</td>\n",
       "      <td>0.000000</td>\n",
       "      <td>0.000000</td>\n",
       "      <td>0.334184</td>\n",
       "      <td>1.000000</td>\n",
       "      <td>0.000000</td>\n",
       "      <td>...</td>\n",
       "      <td>0.000000</td>\n",
       "      <td>1.000000</td>\n",
       "      <td>0.000000</td>\n",
       "      <td>0.000000</td>\n",
       "      <td>1.000000</td>\n",
       "      <td>0.000000</td>\n",
       "      <td>0.000000</td>\n",
       "      <td>0.000000</td>\n",
       "      <td>0.000000</td>\n",
       "      <td>0.000000</td>\n",
       "    </tr>\n",
       "    <tr>\n",
       "      <th>32</th>\n",
       "      <td>0.306122</td>\n",
       "      <td>0.000000</td>\n",
       "      <td>0.493878</td>\n",
       "      <td>1.000000</td>\n",
       "      <td>0.000000</td>\n",
       "      <td>0.000000</td>\n",
       "      <td>0.000000</td>\n",
       "      <td>0.308673</td>\n",
       "      <td>1.000000</td>\n",
       "      <td>0.000000</td>\n",
       "      <td>...</td>\n",
       "      <td>0.000000</td>\n",
       "      <td>1.000000</td>\n",
       "      <td>0.000000</td>\n",
       "      <td>0.000000</td>\n",
       "      <td>1.000000</td>\n",
       "      <td>0.000000</td>\n",
       "      <td>0.000000</td>\n",
       "      <td>0.000000</td>\n",
       "      <td>0.000000</td>\n",
       "      <td>0.000000</td>\n",
       "    </tr>\n",
       "    <tr>\n",
       "      <th>33</th>\n",
       "      <td>0.346939</td>\n",
       "      <td>0.000000</td>\n",
       "      <td>0.453061</td>\n",
       "      <td>1.000000</td>\n",
       "      <td>0.000000</td>\n",
       "      <td>0.000000</td>\n",
       "      <td>0.000000</td>\n",
       "      <td>0.283163</td>\n",
       "      <td>1.000000</td>\n",
       "      <td>0.000000</td>\n",
       "      <td>...</td>\n",
       "      <td>0.000000</td>\n",
       "      <td>1.000000</td>\n",
       "      <td>0.000000</td>\n",
       "      <td>0.000000</td>\n",
       "      <td>1.000000</td>\n",
       "      <td>0.000000</td>\n",
       "      <td>0.000000</td>\n",
       "      <td>0.000000</td>\n",
       "      <td>0.000000</td>\n",
       "      <td>0.000000</td>\n",
       "    </tr>\n",
       "    <tr>\n",
       "      <th>34</th>\n",
       "      <td>0.387755</td>\n",
       "      <td>0.000000</td>\n",
       "      <td>0.412245</td>\n",
       "      <td>1.000000</td>\n",
       "      <td>0.000000</td>\n",
       "      <td>0.000000</td>\n",
       "      <td>0.000000</td>\n",
       "      <td>0.257653</td>\n",
       "      <td>1.000000</td>\n",
       "      <td>0.000000</td>\n",
       "      <td>...</td>\n",
       "      <td>0.000000</td>\n",
       "      <td>1.000000</td>\n",
       "      <td>0.000000</td>\n",
       "      <td>0.000000</td>\n",
       "      <td>1.000000</td>\n",
       "      <td>0.000000</td>\n",
       "      <td>0.000000</td>\n",
       "      <td>0.000000</td>\n",
       "      <td>0.000000</td>\n",
       "      <td>0.000000</td>\n",
       "    </tr>\n",
       "    <tr>\n",
       "      <th>35</th>\n",
       "      <td>0.428571</td>\n",
       "      <td>0.000000</td>\n",
       "      <td>0.371429</td>\n",
       "      <td>1.000000</td>\n",
       "      <td>0.000000</td>\n",
       "      <td>0.000000</td>\n",
       "      <td>0.000000</td>\n",
       "      <td>0.232143</td>\n",
       "      <td>1.000000</td>\n",
       "      <td>0.000000</td>\n",
       "      <td>...</td>\n",
       "      <td>0.000000</td>\n",
       "      <td>1.000000</td>\n",
       "      <td>0.000000</td>\n",
       "      <td>0.000000</td>\n",
       "      <td>1.000000</td>\n",
       "      <td>0.000000</td>\n",
       "      <td>0.000000</td>\n",
       "      <td>0.000000</td>\n",
       "      <td>0.000000</td>\n",
       "      <td>0.000000</td>\n",
       "    </tr>\n",
       "    <tr>\n",
       "      <th>36</th>\n",
       "      <td>0.469388</td>\n",
       "      <td>0.000000</td>\n",
       "      <td>0.330612</td>\n",
       "      <td>1.000000</td>\n",
       "      <td>0.000000</td>\n",
       "      <td>0.000000</td>\n",
       "      <td>0.000000</td>\n",
       "      <td>0.206633</td>\n",
       "      <td>1.000000</td>\n",
       "      <td>0.000000</td>\n",
       "      <td>...</td>\n",
       "      <td>0.000000</td>\n",
       "      <td>1.000000</td>\n",
       "      <td>0.000000</td>\n",
       "      <td>0.000000</td>\n",
       "      <td>1.000000</td>\n",
       "      <td>0.000000</td>\n",
       "      <td>0.000000</td>\n",
       "      <td>0.000000</td>\n",
       "      <td>0.000000</td>\n",
       "      <td>0.000000</td>\n",
       "    </tr>\n",
       "    <tr>\n",
       "      <th>37</th>\n",
       "      <td>0.510204</td>\n",
       "      <td>0.000000</td>\n",
       "      <td>0.289796</td>\n",
       "      <td>1.000000</td>\n",
       "      <td>0.000000</td>\n",
       "      <td>0.000000</td>\n",
       "      <td>0.000000</td>\n",
       "      <td>0.181122</td>\n",
       "      <td>1.000000</td>\n",
       "      <td>0.000000</td>\n",
       "      <td>...</td>\n",
       "      <td>0.000000</td>\n",
       "      <td>1.000000</td>\n",
       "      <td>0.000000</td>\n",
       "      <td>0.000000</td>\n",
       "      <td>1.000000</td>\n",
       "      <td>0.000000</td>\n",
       "      <td>0.000000</td>\n",
       "      <td>0.000000</td>\n",
       "      <td>0.000000</td>\n",
       "      <td>0.000000</td>\n",
       "    </tr>\n",
       "    <tr>\n",
       "      <th>38</th>\n",
       "      <td>0.551020</td>\n",
       "      <td>0.000000</td>\n",
       "      <td>0.248980</td>\n",
       "      <td>1.000000</td>\n",
       "      <td>0.000000</td>\n",
       "      <td>0.000000</td>\n",
       "      <td>0.000000</td>\n",
       "      <td>0.155612</td>\n",
       "      <td>1.000000</td>\n",
       "      <td>0.000000</td>\n",
       "      <td>...</td>\n",
       "      <td>0.000000</td>\n",
       "      <td>1.000000</td>\n",
       "      <td>0.000000</td>\n",
       "      <td>0.000000</td>\n",
       "      <td>1.000000</td>\n",
       "      <td>0.000000</td>\n",
       "      <td>0.000000</td>\n",
       "      <td>0.000000</td>\n",
       "      <td>0.000000</td>\n",
       "      <td>0.000000</td>\n",
       "    </tr>\n",
       "    <tr>\n",
       "      <th>39</th>\n",
       "      <td>0.591837</td>\n",
       "      <td>0.000000</td>\n",
       "      <td>0.208163</td>\n",
       "      <td>1.000000</td>\n",
       "      <td>0.000000</td>\n",
       "      <td>0.000000</td>\n",
       "      <td>0.000000</td>\n",
       "      <td>0.130102</td>\n",
       "      <td>1.000000</td>\n",
       "      <td>0.000000</td>\n",
       "      <td>...</td>\n",
       "      <td>0.000000</td>\n",
       "      <td>1.000000</td>\n",
       "      <td>0.000000</td>\n",
       "      <td>0.000000</td>\n",
       "      <td>1.000000</td>\n",
       "      <td>0.000000</td>\n",
       "      <td>0.000000</td>\n",
       "      <td>0.000000</td>\n",
       "      <td>0.000000</td>\n",
       "      <td>0.000000</td>\n",
       "    </tr>\n",
       "    <tr>\n",
       "      <th>40</th>\n",
       "      <td>0.632653</td>\n",
       "      <td>0.000000</td>\n",
       "      <td>0.167347</td>\n",
       "      <td>0.918367</td>\n",
       "      <td>0.000000</td>\n",
       "      <td>0.000000</td>\n",
       "      <td>0.000000</td>\n",
       "      <td>0.104592</td>\n",
       "      <td>0.918367</td>\n",
       "      <td>0.000000</td>\n",
       "      <td>...</td>\n",
       "      <td>0.000000</td>\n",
       "      <td>0.918367</td>\n",
       "      <td>0.163265</td>\n",
       "      <td>0.163265</td>\n",
       "      <td>0.836735</td>\n",
       "      <td>0.000000</td>\n",
       "      <td>0.000000</td>\n",
       "      <td>0.000000</td>\n",
       "      <td>0.000000</td>\n",
       "      <td>0.000000</td>\n",
       "    </tr>\n",
       "    <tr>\n",
       "      <th>41</th>\n",
       "      <td>0.673469</td>\n",
       "      <td>0.000000</td>\n",
       "      <td>0.126531</td>\n",
       "      <td>0.816327</td>\n",
       "      <td>0.000000</td>\n",
       "      <td>0.000000</td>\n",
       "      <td>0.000000</td>\n",
       "      <td>0.079082</td>\n",
       "      <td>0.816327</td>\n",
       "      <td>0.000000</td>\n",
       "      <td>...</td>\n",
       "      <td>0.000000</td>\n",
       "      <td>0.816327</td>\n",
       "      <td>0.367347</td>\n",
       "      <td>0.367347</td>\n",
       "      <td>0.632653</td>\n",
       "      <td>0.000000</td>\n",
       "      <td>0.000000</td>\n",
       "      <td>0.000000</td>\n",
       "      <td>0.000000</td>\n",
       "      <td>0.000000</td>\n",
       "    </tr>\n",
       "    <tr>\n",
       "      <th>42</th>\n",
       "      <td>0.714286</td>\n",
       "      <td>0.000000</td>\n",
       "      <td>0.085714</td>\n",
       "      <td>0.714286</td>\n",
       "      <td>0.000000</td>\n",
       "      <td>0.000000</td>\n",
       "      <td>0.000000</td>\n",
       "      <td>0.053571</td>\n",
       "      <td>0.714286</td>\n",
       "      <td>0.000000</td>\n",
       "      <td>...</td>\n",
       "      <td>0.000000</td>\n",
       "      <td>0.714286</td>\n",
       "      <td>0.571429</td>\n",
       "      <td>0.571429</td>\n",
       "      <td>0.428571</td>\n",
       "      <td>0.000000</td>\n",
       "      <td>0.000000</td>\n",
       "      <td>0.000000</td>\n",
       "      <td>0.000000</td>\n",
       "      <td>0.000000</td>\n",
       "    </tr>\n",
       "    <tr>\n",
       "      <th>43</th>\n",
       "      <td>0.755102</td>\n",
       "      <td>0.000000</td>\n",
       "      <td>0.044898</td>\n",
       "      <td>0.612245</td>\n",
       "      <td>0.000000</td>\n",
       "      <td>0.000000</td>\n",
       "      <td>0.000000</td>\n",
       "      <td>0.028061</td>\n",
       "      <td>0.612245</td>\n",
       "      <td>0.000000</td>\n",
       "      <td>...</td>\n",
       "      <td>0.000000</td>\n",
       "      <td>0.612245</td>\n",
       "      <td>0.775510</td>\n",
       "      <td>0.775510</td>\n",
       "      <td>0.224490</td>\n",
       "      <td>0.000000</td>\n",
       "      <td>0.000000</td>\n",
       "      <td>0.000000</td>\n",
       "      <td>0.000000</td>\n",
       "      <td>0.000000</td>\n",
       "    </tr>\n",
       "    <tr>\n",
       "      <th>44</th>\n",
       "      <td>0.795918</td>\n",
       "      <td>0.000000</td>\n",
       "      <td>0.004082</td>\n",
       "      <td>0.510204</td>\n",
       "      <td>0.000000</td>\n",
       "      <td>0.000000</td>\n",
       "      <td>0.000000</td>\n",
       "      <td>0.002551</td>\n",
       "      <td>0.510204</td>\n",
       "      <td>0.000000</td>\n",
       "      <td>...</td>\n",
       "      <td>0.000000</td>\n",
       "      <td>0.510204</td>\n",
       "      <td>0.979592</td>\n",
       "      <td>0.979592</td>\n",
       "      <td>0.020408</td>\n",
       "      <td>0.000000</td>\n",
       "      <td>0.000000</td>\n",
       "      <td>0.000000</td>\n",
       "      <td>0.000000</td>\n",
       "      <td>0.000000</td>\n",
       "    </tr>\n",
       "    <tr>\n",
       "      <th>45</th>\n",
       "      <td>0.836735</td>\n",
       "      <td>0.000000</td>\n",
       "      <td>0.000000</td>\n",
       "      <td>0.408163</td>\n",
       "      <td>0.000000</td>\n",
       "      <td>0.000000</td>\n",
       "      <td>0.000000</td>\n",
       "      <td>0.000000</td>\n",
       "      <td>0.408163</td>\n",
       "      <td>0.000000</td>\n",
       "      <td>...</td>\n",
       "      <td>0.000000</td>\n",
       "      <td>0.408163</td>\n",
       "      <td>1.000000</td>\n",
       "      <td>1.000000</td>\n",
       "      <td>0.000000</td>\n",
       "      <td>0.000000</td>\n",
       "      <td>0.000000</td>\n",
       "      <td>0.000000</td>\n",
       "      <td>0.000000</td>\n",
       "      <td>0.000000</td>\n",
       "    </tr>\n",
       "    <tr>\n",
       "      <th>46</th>\n",
       "      <td>0.877551</td>\n",
       "      <td>0.000000</td>\n",
       "      <td>0.000000</td>\n",
       "      <td>0.306122</td>\n",
       "      <td>0.000000</td>\n",
       "      <td>0.000000</td>\n",
       "      <td>0.000000</td>\n",
       "      <td>0.000000</td>\n",
       "      <td>0.306122</td>\n",
       "      <td>0.000000</td>\n",
       "      <td>...</td>\n",
       "      <td>0.000000</td>\n",
       "      <td>0.306122</td>\n",
       "      <td>1.000000</td>\n",
       "      <td>1.000000</td>\n",
       "      <td>0.000000</td>\n",
       "      <td>0.000000</td>\n",
       "      <td>0.000000</td>\n",
       "      <td>0.000000</td>\n",
       "      <td>0.000000</td>\n",
       "      <td>0.000000</td>\n",
       "    </tr>\n",
       "    <tr>\n",
       "      <th>47</th>\n",
       "      <td>0.918367</td>\n",
       "      <td>0.000000</td>\n",
       "      <td>0.000000</td>\n",
       "      <td>0.204082</td>\n",
       "      <td>0.000000</td>\n",
       "      <td>0.000000</td>\n",
       "      <td>0.000000</td>\n",
       "      <td>0.000000</td>\n",
       "      <td>0.204082</td>\n",
       "      <td>0.000000</td>\n",
       "      <td>...</td>\n",
       "      <td>0.000000</td>\n",
       "      <td>0.204082</td>\n",
       "      <td>1.000000</td>\n",
       "      <td>1.000000</td>\n",
       "      <td>0.000000</td>\n",
       "      <td>0.000000</td>\n",
       "      <td>0.000000</td>\n",
       "      <td>0.000000</td>\n",
       "      <td>0.000000</td>\n",
       "      <td>0.000000</td>\n",
       "    </tr>\n",
       "    <tr>\n",
       "      <th>48</th>\n",
       "      <td>0.959184</td>\n",
       "      <td>0.000000</td>\n",
       "      <td>0.000000</td>\n",
       "      <td>0.102041</td>\n",
       "      <td>0.000000</td>\n",
       "      <td>0.000000</td>\n",
       "      <td>0.000000</td>\n",
       "      <td>0.000000</td>\n",
       "      <td>0.102041</td>\n",
       "      <td>0.000000</td>\n",
       "      <td>...</td>\n",
       "      <td>0.000000</td>\n",
       "      <td>0.102041</td>\n",
       "      <td>1.000000</td>\n",
       "      <td>1.000000</td>\n",
       "      <td>0.000000</td>\n",
       "      <td>0.000000</td>\n",
       "      <td>0.000000</td>\n",
       "      <td>0.000000</td>\n",
       "      <td>0.000000</td>\n",
       "      <td>0.000000</td>\n",
       "    </tr>\n",
       "    <tr>\n",
       "      <th>49</th>\n",
       "      <td>1.000000</td>\n",
       "      <td>0.000000</td>\n",
       "      <td>0.000000</td>\n",
       "      <td>0.000000</td>\n",
       "      <td>0.000000</td>\n",
       "      <td>0.000000</td>\n",
       "      <td>0.000000</td>\n",
       "      <td>0.000000</td>\n",
       "      <td>0.000000</td>\n",
       "      <td>0.000000</td>\n",
       "      <td>...</td>\n",
       "      <td>0.000000</td>\n",
       "      <td>0.000000</td>\n",
       "      <td>0.000000</td>\n",
       "      <td>0.000000</td>\n",
       "      <td>0.000000</td>\n",
       "      <td>0.000000</td>\n",
       "      <td>0.000000</td>\n",
       "      <td>0.000000</td>\n",
       "      <td>0.000000</td>\n",
       "      <td>0.000000</td>\n",
       "    </tr>\n",
       "  </tbody>\n",
       "</table>\n",
       "<p>50 rows × 25 columns</p>\n",
       "</div>"
      ],
      "text/plain": [
       "           x     r0_e1     r1_e1     r2_e1     r3_e1     r4_e1     r5_e1  \\\n",
       "0  -1.000000  1.000000  0.000000  0.000000  0.000000  0.000000  1.000000   \n",
       "1  -0.959184  1.000000  0.000000  0.000000  0.000000  0.000000  1.000000   \n",
       "2  -0.918367  1.000000  0.000000  0.000000  0.000000  0.000000  1.000000   \n",
       "3  -0.877551  1.000000  0.000000  0.000000  0.000000  0.000000  1.000000   \n",
       "4  -0.836735  1.000000  0.000000  0.000000  0.000000  0.000000  1.000000   \n",
       "5  -0.795918  0.994898  0.020408  0.000000  0.000000  0.000000  0.994898   \n",
       "6  -0.755102  0.943878  0.224490  0.000000  0.000000  0.000000  0.943878   \n",
       "7  -0.714286  0.892857  0.428571  0.000000  0.000000  0.000000  0.892857   \n",
       "8  -0.673469  0.841837  0.632653  0.000000  0.000000  0.000000  0.841837   \n",
       "9  -0.632653  0.790816  0.836735  0.000000  0.000000  0.000000  0.790816   \n",
       "10 -0.591837  0.739796  1.000000  0.000000  0.000000  0.000000  0.739796   \n",
       "11 -0.551020  0.688776  1.000000  0.000000  0.000000  0.000000  0.688776   \n",
       "12 -0.510204  0.637755  1.000000  0.000000  0.000000  0.000000  0.637755   \n",
       "13 -0.469388  0.586735  1.000000  0.000000  0.000000  0.000000  0.586735   \n",
       "14 -0.428571  0.535714  1.000000  0.000000  0.000000  0.000000  0.535714   \n",
       "15 -0.387755  0.484694  1.000000  0.000000  0.000000  0.000000  0.484694   \n",
       "16 -0.346939  0.433673  1.000000  0.000000  0.000000  0.000000  0.433673   \n",
       "17 -0.306122  0.382653  1.000000  0.000000  0.000000  0.000000  0.382653   \n",
       "18 -0.265306  0.331633  1.000000  0.000000  0.000000  0.000000  0.331633   \n",
       "19 -0.224490  0.280612  1.000000  0.000000  0.000000  0.000000  0.280612   \n",
       "20 -0.183673  0.229592  0.983673  0.000000  0.081633  0.081633  0.229592   \n",
       "21 -0.142857  0.178571  0.942857  0.000000  0.285714  0.285714  0.178571   \n",
       "22 -0.102041  0.127551  0.902041  0.000000  0.489796  0.489796  0.127551   \n",
       "23 -0.061224  0.076531  0.861224  0.000000  0.693878  0.693878  0.076531   \n",
       "24 -0.020408  0.025510  0.820408  0.000000  0.897959  0.897959  0.025510   \n",
       "25  0.020408  0.000000  0.779592  0.102041  0.897959  0.897959  0.000000   \n",
       "26  0.061224  0.000000  0.738776  0.306122  0.693878  0.693878  0.000000   \n",
       "27  0.102041  0.000000  0.697959  0.510204  0.489796  0.489796  0.000000   \n",
       "28  0.142857  0.000000  0.657143  0.714286  0.285714  0.285714  0.000000   \n",
       "29  0.183673  0.000000  0.616327  0.918367  0.081633  0.081633  0.000000   \n",
       "30  0.224490  0.000000  0.575510  1.000000  0.000000  0.000000  0.000000   \n",
       "31  0.265306  0.000000  0.534694  1.000000  0.000000  0.000000  0.000000   \n",
       "32  0.306122  0.000000  0.493878  1.000000  0.000000  0.000000  0.000000   \n",
       "33  0.346939  0.000000  0.453061  1.000000  0.000000  0.000000  0.000000   \n",
       "34  0.387755  0.000000  0.412245  1.000000  0.000000  0.000000  0.000000   \n",
       "35  0.428571  0.000000  0.371429  1.000000  0.000000  0.000000  0.000000   \n",
       "36  0.469388  0.000000  0.330612  1.000000  0.000000  0.000000  0.000000   \n",
       "37  0.510204  0.000000  0.289796  1.000000  0.000000  0.000000  0.000000   \n",
       "38  0.551020  0.000000  0.248980  1.000000  0.000000  0.000000  0.000000   \n",
       "39  0.591837  0.000000  0.208163  1.000000  0.000000  0.000000  0.000000   \n",
       "40  0.632653  0.000000  0.167347  0.918367  0.000000  0.000000  0.000000   \n",
       "41  0.673469  0.000000  0.126531  0.816327  0.000000  0.000000  0.000000   \n",
       "42  0.714286  0.000000  0.085714  0.714286  0.000000  0.000000  0.000000   \n",
       "43  0.755102  0.000000  0.044898  0.612245  0.000000  0.000000  0.000000   \n",
       "44  0.795918  0.000000  0.004082  0.510204  0.000000  0.000000  0.000000   \n",
       "45  0.836735  0.000000  0.000000  0.408163  0.000000  0.000000  0.000000   \n",
       "46  0.877551  0.000000  0.000000  0.306122  0.000000  0.000000  0.000000   \n",
       "47  0.918367  0.000000  0.000000  0.204082  0.000000  0.000000  0.000000   \n",
       "48  0.959184  0.000000  0.000000  0.102041  0.000000  0.000000  0.000000   \n",
       "49  1.000000  0.000000  0.000000  0.000000  0.000000  0.000000  0.000000   \n",
       "\n",
       "       r6_e1     r7_e1     r0_e2  ...     r6_e2     r7_e2        s0        s1  \\\n",
       "0   1.000000  0.000000  1.000000  ...  1.000000  0.000000  0.000000  0.000000   \n",
       "1   1.000000  0.000000  1.000000  ...  1.000000  0.000000  0.000000  0.000000   \n",
       "2   1.000000  0.000000  1.000000  ...  1.000000  0.000000  0.000000  0.000000   \n",
       "3   1.000000  0.000000  1.000000  ...  1.000000  0.000000  0.000000  0.000000   \n",
       "4   1.000000  0.000000  1.000000  ...  1.000000  0.000000  0.000000  0.000000   \n",
       "5   0.997449  0.000000  0.994898  ...  0.979592  0.000000  0.000000  0.000000   \n",
       "6   0.971939  0.000000  0.943878  ...  0.775510  0.000000  0.000000  0.000000   \n",
       "7   0.946429  0.000000  0.892857  ...  0.571429  0.000000  0.000000  0.000000   \n",
       "8   0.920918  0.000000  0.841837  ...  0.367347  0.000000  0.000000  0.000000   \n",
       "9   0.895408  0.000000  0.790816  ...  0.163265  0.000000  0.000000  0.000000   \n",
       "10  0.869898  0.000000  0.739796  ...  0.000000  0.000000  0.000000  0.000000   \n",
       "11  0.844388  0.000000  0.688776  ...  0.000000  0.000000  0.000000  0.000000   \n",
       "12  0.818878  0.000000  0.637755  ...  0.000000  0.000000  0.000000  0.000000   \n",
       "13  0.793367  0.000000  0.586735  ...  0.000000  0.000000  0.000000  0.000000   \n",
       "14  0.767857  0.000000  0.535714  ...  0.000000  0.000000  0.000000  0.000000   \n",
       "15  0.742347  0.000000  0.484694  ...  0.000000  0.000000  0.000000  0.000000   \n",
       "16  0.716837  0.000000  0.433673  ...  0.000000  0.000000  0.000000  0.000000   \n",
       "17  0.691327  0.000000  0.382653  ...  0.000000  0.000000  0.000000  0.000000   \n",
       "18  0.665816  0.000000  0.331633  ...  0.000000  0.000000  0.000000  0.000000   \n",
       "19  0.640306  0.000000  0.280612  ...  0.000000  0.000000  0.000000  0.000000   \n",
       "20  0.614796  0.000000  0.229592  ...  0.000000  0.000000  0.000000  0.000000   \n",
       "21  0.589286  0.000000  0.178571  ...  0.000000  0.000000  0.000000  0.000000   \n",
       "22  0.563776  0.000000  0.127551  ...  0.000000  0.000000  0.000000  0.000000   \n",
       "23  0.538265  0.000000  0.076531  ...  0.000000  0.000000  0.000000  0.000000   \n",
       "24  0.512755  0.000000  0.025510  ...  0.000000  0.000000  0.000000  0.000000   \n",
       "25  0.487245  0.102041  0.000000  ...  0.000000  0.102041  0.000000  0.000000   \n",
       "26  0.461735  0.306122  0.000000  ...  0.000000  0.306122  0.000000  0.000000   \n",
       "27  0.436224  0.510204  0.000000  ...  0.000000  0.510204  0.000000  0.000000   \n",
       "28  0.410714  0.714286  0.000000  ...  0.000000  0.714286  0.000000  0.000000   \n",
       "29  0.385204  0.918367  0.000000  ...  0.000000  0.918367  0.000000  0.000000   \n",
       "30  0.359694  1.000000  0.000000  ...  0.000000  1.000000  0.000000  0.000000   \n",
       "31  0.334184  1.000000  0.000000  ...  0.000000  1.000000  0.000000  0.000000   \n",
       "32  0.308673  1.000000  0.000000  ...  0.000000  1.000000  0.000000  0.000000   \n",
       "33  0.283163  1.000000  0.000000  ...  0.000000  1.000000  0.000000  0.000000   \n",
       "34  0.257653  1.000000  0.000000  ...  0.000000  1.000000  0.000000  0.000000   \n",
       "35  0.232143  1.000000  0.000000  ...  0.000000  1.000000  0.000000  0.000000   \n",
       "36  0.206633  1.000000  0.000000  ...  0.000000  1.000000  0.000000  0.000000   \n",
       "37  0.181122  1.000000  0.000000  ...  0.000000  1.000000  0.000000  0.000000   \n",
       "38  0.155612  1.000000  0.000000  ...  0.000000  1.000000  0.000000  0.000000   \n",
       "39  0.130102  1.000000  0.000000  ...  0.000000  1.000000  0.000000  0.000000   \n",
       "40  0.104592  0.918367  0.000000  ...  0.000000  0.918367  0.163265  0.163265   \n",
       "41  0.079082  0.816327  0.000000  ...  0.000000  0.816327  0.367347  0.367347   \n",
       "42  0.053571  0.714286  0.000000  ...  0.000000  0.714286  0.571429  0.571429   \n",
       "43  0.028061  0.612245  0.000000  ...  0.000000  0.612245  0.775510  0.775510   \n",
       "44  0.002551  0.510204  0.000000  ...  0.000000  0.510204  0.979592  0.979592   \n",
       "45  0.000000  0.408163  0.000000  ...  0.000000  0.408163  1.000000  1.000000   \n",
       "46  0.000000  0.306122  0.000000  ...  0.000000  0.306122  1.000000  1.000000   \n",
       "47  0.000000  0.204082  0.000000  ...  0.000000  0.204082  1.000000  1.000000   \n",
       "48  0.000000  0.102041  0.000000  ...  0.000000  0.102041  1.000000  1.000000   \n",
       "49  0.000000  0.000000  0.000000  ...  0.000000  0.000000  0.000000  0.000000   \n",
       "\n",
       "          s2        s3        s4        s5        s6        s7  \n",
       "0   0.000000  0.000000  0.000000  0.000000  1.000000  1.000000  \n",
       "1   0.000000  0.000000  0.000000  0.000000  1.000000  1.000000  \n",
       "2   0.000000  0.000000  0.000000  0.000000  1.000000  1.000000  \n",
       "3   0.000000  0.000000  0.000000  0.000000  1.000000  1.000000  \n",
       "4   0.000000  0.000000  0.000000  0.000000  1.000000  1.000000  \n",
       "5   0.000000  0.000000  0.000000  0.020408  0.979592  0.979592  \n",
       "6   0.000000  0.000000  0.000000  0.224490  0.775510  0.775510  \n",
       "7   0.000000  0.000000  0.000000  0.428571  0.571429  0.571429  \n",
       "8   0.000000  0.000000  0.000000  0.632653  0.367347  0.367347  \n",
       "9   0.000000  0.000000  0.000000  0.836735  0.163265  0.163265  \n",
       "10  0.000000  0.000000  0.000000  1.000000  0.000000  0.000000  \n",
       "11  0.000000  0.000000  0.000000  1.000000  0.000000  0.000000  \n",
       "12  0.000000  0.000000  0.000000  1.000000  0.000000  0.000000  \n",
       "13  0.000000  0.000000  0.000000  1.000000  0.000000  0.000000  \n",
       "14  0.000000  0.000000  0.000000  1.000000  0.000000  0.000000  \n",
       "15  0.000000  0.000000  0.000000  1.000000  0.000000  0.000000  \n",
       "16  0.000000  0.000000  0.000000  1.000000  0.000000  0.000000  \n",
       "17  0.000000  0.000000  0.000000  1.000000  0.000000  0.000000  \n",
       "18  0.000000  0.000000  0.000000  1.000000  0.000000  0.000000  \n",
       "19  0.000000  0.000000  0.000000  1.000000  0.000000  0.000000  \n",
       "20  0.000000  0.081633  0.081633  0.918367  0.000000  0.000000  \n",
       "21  0.000000  0.285714  0.285714  0.714286  0.000000  0.000000  \n",
       "22  0.000000  0.489796  0.489796  0.510204  0.000000  0.000000  \n",
       "23  0.000000  0.693878  0.693878  0.306122  0.000000  0.000000  \n",
       "24  0.000000  0.897959  0.897959  0.102041  0.000000  0.000000  \n",
       "25  0.102041  0.897959  0.897959  0.000000  0.000000  0.000000  \n",
       "26  0.306122  0.693878  0.693878  0.000000  0.000000  0.000000  \n",
       "27  0.510204  0.489796  0.489796  0.000000  0.000000  0.000000  \n",
       "28  0.714286  0.285714  0.285714  0.000000  0.000000  0.000000  \n",
       "29  0.918367  0.081633  0.081633  0.000000  0.000000  0.000000  \n",
       "30  1.000000  0.000000  0.000000  0.000000  0.000000  0.000000  \n",
       "31  1.000000  0.000000  0.000000  0.000000  0.000000  0.000000  \n",
       "32  1.000000  0.000000  0.000000  0.000000  0.000000  0.000000  \n",
       "33  1.000000  0.000000  0.000000  0.000000  0.000000  0.000000  \n",
       "34  1.000000  0.000000  0.000000  0.000000  0.000000  0.000000  \n",
       "35  1.000000  0.000000  0.000000  0.000000  0.000000  0.000000  \n",
       "36  1.000000  0.000000  0.000000  0.000000  0.000000  0.000000  \n",
       "37  1.000000  0.000000  0.000000  0.000000  0.000000  0.000000  \n",
       "38  1.000000  0.000000  0.000000  0.000000  0.000000  0.000000  \n",
       "39  1.000000  0.000000  0.000000  0.000000  0.000000  0.000000  \n",
       "40  0.836735  0.000000  0.000000  0.000000  0.000000  0.000000  \n",
       "41  0.632653  0.000000  0.000000  0.000000  0.000000  0.000000  \n",
       "42  0.428571  0.000000  0.000000  0.000000  0.000000  0.000000  \n",
       "43  0.224490  0.000000  0.000000  0.000000  0.000000  0.000000  \n",
       "44  0.020408  0.000000  0.000000  0.000000  0.000000  0.000000  \n",
       "45  0.000000  0.000000  0.000000  0.000000  0.000000  0.000000  \n",
       "46  0.000000  0.000000  0.000000  0.000000  0.000000  0.000000  \n",
       "47  0.000000  0.000000  0.000000  0.000000  0.000000  0.000000  \n",
       "48  0.000000  0.000000  0.000000  0.000000  0.000000  0.000000  \n",
       "49  0.000000  0.000000  0.000000  0.000000  0.000000  0.000000  \n",
       "\n",
       "[50 rows x 25 columns]"
      ]
     },
     "execution_count": 10,
     "metadata": {},
     "output_type": "execute_result"
    }
   ],
   "source": [
    "# Obtenemos los grados de pertenencia de los distintos puntos\n",
    "# Generamos el eje\n",
    "n = 50\n",
    "eje = npy.linspace(-1,1,n)\n",
    "\n",
    "# Obteemos la cantidad de columnas para el df\n",
    "columns = ['x']\n",
    "for i, _ in enumerate(reglas):\n",
    "    columns.append(f'r{i}_e1')\n",
    "\n",
    "for i, _ in enumerate(reglas):\n",
    "    columns.append(f'r{i}_e2')\n",
    "\n",
    "for i, _ in enumerate(reglas):\n",
    "    columns.append(f's{i}')\n",
    "\n",
    "# Generamos el df\n",
    "df = pd.DataFrame(columns = columns)\n",
    "# print(df)\n",
    "\n",
    "# # Obtenemos la prioridad\n",
    "for i,x in enumerate(eje):\n",
    "    # Obtenemos los conjuntos de entrada\n",
    "    e1, e2, _, _= base_reglas(x,x,conjuntos, reglas)\n",
    "\n",
    "    # Obtenemos  el conjunto de salida\n",
    "    s = []\n",
    "    for r in reglas:\n",
    "       s.append(interfaz_difusion(x, r['salida']))\n",
    "\n",
    "\n",
    "    df.loc[i] = [x,*e1, *e2,*s]\n",
    "\n",
    "\n",
    "df"
   ]
  },
  {
   "cell_type": "code",
   "execution_count": 17,
   "metadata": {},
   "outputs": [
    {
     "data": {
      "application/vnd.plotly.v1+json": {
       "config": {
        "plotlyServerURL": "https://plot.ly"
       },
       "data": [
        {
         "type": "scatter",
         "x": [
          -1,
          -0.9591836734693877,
          -0.9183673469387755,
          -0.8775510204081632,
          -0.8367346938775511,
          -0.7959183673469388,
          -0.7551020408163265,
          -0.7142857142857143,
          -0.6734693877551021,
          -0.6326530612244898,
          -0.5918367346938775,
          -0.5510204081632654,
          -0.5102040816326531,
          -0.4693877551020409,
          -0.4285714285714286,
          -0.3877551020408164,
          -0.34693877551020413,
          -0.30612244897959184,
          -0.26530612244897966,
          -0.22448979591836737,
          -0.1836734693877552,
          -0.1428571428571429,
          -0.10204081632653073,
          -0.061224489795918435,
          -0.020408163265306145,
          0.020408163265306145,
          0.06122448979591821,
          0.1020408163265305,
          0.1428571428571428,
          0.18367346938775508,
          0.22448979591836715,
          0.26530612244897944,
          0.30612244897959173,
          0.346938775510204,
          0.3877551020408163,
          0.4285714285714284,
          0.46938775510204067,
          0.510204081632653,
          0.5510204081632653,
          0.5918367346938773,
          0.6326530612244896,
          0.6734693877551019,
          0.7142857142857142,
          0.7551020408163265,
          0.7959183673469385,
          0.8367346938775508,
          0.8775510204081631,
          0.9183673469387754,
          0.9591836734693877,
          1
         ],
         "xaxis": "x",
         "y": [
          1,
          1,
          1,
          1,
          1,
          0.9948979591836734,
          0.943877551020408,
          0.8928571428571428,
          0.8418367346938777,
          0.7908163265306123,
          0.7397959183673469,
          0.6887755102040817,
          0.6377551020408163,
          0.5867346938775511,
          0.5357142857142857,
          0.4846938775510205,
          0.43367346938775514,
          0.3826530612244898,
          0.3316326530612246,
          0.2806122448979592,
          0.229591836734694,
          0.17857142857142863,
          0.1275510204081634,
          0.07653061224489804,
          0.02551020408163268,
          0,
          0,
          0,
          0,
          0,
          0,
          0,
          0,
          0,
          0,
          0,
          0,
          0,
          0,
          0,
          0,
          0,
          0,
          0,
          0,
          0,
          0,
          0,
          0,
          0
         ],
         "yaxis": "y"
        },
        {
         "type": "scatter",
         "x": [
          -1,
          -0.9591836734693877,
          -0.9183673469387755,
          -0.8775510204081632,
          -0.8367346938775511,
          -0.7959183673469388,
          -0.7551020408163265,
          -0.7142857142857143,
          -0.6734693877551021,
          -0.6326530612244898,
          -0.5918367346938775,
          -0.5510204081632654,
          -0.5102040816326531,
          -0.4693877551020409,
          -0.4285714285714286,
          -0.3877551020408164,
          -0.34693877551020413,
          -0.30612244897959184,
          -0.26530612244897966,
          -0.22448979591836737,
          -0.1836734693877552,
          -0.1428571428571429,
          -0.10204081632653073,
          -0.061224489795918435,
          -0.020408163265306145,
          0.020408163265306145,
          0.06122448979591821,
          0.1020408163265305,
          0.1428571428571428,
          0.18367346938775508,
          0.22448979591836715,
          0.26530612244897944,
          0.30612244897959173,
          0.346938775510204,
          0.3877551020408163,
          0.4285714285714284,
          0.46938775510204067,
          0.510204081632653,
          0.5510204081632653,
          0.5918367346938773,
          0.6326530612244896,
          0.6734693877551019,
          0.7142857142857142,
          0.7551020408163265,
          0.7959183673469385,
          0.8367346938775508,
          0.8775510204081631,
          0.9183673469387754,
          0.9591836734693877,
          1
         ],
         "xaxis": "x2",
         "y": [
          1,
          1,
          1,
          1,
          1,
          0.9948979591836734,
          0.943877551020408,
          0.8928571428571428,
          0.8418367346938777,
          0.7908163265306123,
          0.7397959183673469,
          0.6887755102040817,
          0.6377551020408163,
          0.5867346938775511,
          0.5357142857142857,
          0.4846938775510205,
          0.43367346938775514,
          0.3826530612244898,
          0.3316326530612246,
          0.2806122448979592,
          0.229591836734694,
          0.17857142857142863,
          0.1275510204081634,
          0.07653061224489804,
          0.02551020408163268,
          0,
          0,
          0,
          0,
          0,
          0,
          0,
          0,
          0,
          0,
          0,
          0,
          0,
          0,
          0,
          0,
          0,
          0,
          0,
          0,
          0,
          0,
          0,
          0,
          0
         ],
         "yaxis": "y2"
        },
        {
         "type": "scatter",
         "x": [
          -1,
          -0.9591836734693877,
          -0.9183673469387755,
          -0.8775510204081632,
          -0.8367346938775511,
          -0.7959183673469388,
          -0.7551020408163265,
          -0.7142857142857143,
          -0.6734693877551021,
          -0.6326530612244898,
          -0.5918367346938775,
          -0.5510204081632654,
          -0.5102040816326531,
          -0.4693877551020409,
          -0.4285714285714286,
          -0.3877551020408164,
          -0.34693877551020413,
          -0.30612244897959184,
          -0.26530612244897966,
          -0.22448979591836737,
          -0.1836734693877552,
          -0.1428571428571429,
          -0.10204081632653073,
          -0.061224489795918435,
          -0.020408163265306145,
          0.020408163265306145,
          0.06122448979591821,
          0.1020408163265305,
          0.1428571428571428,
          0.18367346938775508,
          0.22448979591836715,
          0.26530612244897944,
          0.30612244897959173,
          0.346938775510204,
          0.3877551020408163,
          0.4285714285714284,
          0.46938775510204067,
          0.510204081632653,
          0.5510204081632653,
          0.5918367346938773,
          0.6326530612244896,
          0.6734693877551019,
          0.7142857142857142,
          0.7551020408163265,
          0.7959183673469385,
          0.8367346938775508,
          0.8775510204081631,
          0.9183673469387754,
          0.9591836734693877,
          1
         ],
         "xaxis": "x3",
         "y": [
          0,
          0,
          0,
          0,
          0,
          0,
          0,
          0,
          0,
          0,
          0,
          0,
          0,
          0,
          0,
          0,
          0,
          0,
          0,
          0,
          0,
          0,
          0,
          0,
          0,
          0,
          0,
          0,
          0,
          0,
          0,
          0,
          0,
          0,
          0,
          0,
          0,
          0,
          0,
          0,
          0.1632653061224481,
          0.3673469387755095,
          0.5714285714285708,
          0.7755102040816323,
          0.9795918367346925,
          1,
          1,
          1,
          1,
          0
         ],
         "yaxis": "y3"
        },
        {
         "type": "scatter",
         "x": [
          -1,
          -0.9591836734693877,
          -0.9183673469387755,
          -0.8775510204081632,
          -0.8367346938775511,
          -0.7959183673469388,
          -0.7551020408163265,
          -0.7142857142857143,
          -0.6734693877551021,
          -0.6326530612244898,
          -0.5918367346938775,
          -0.5510204081632654,
          -0.5102040816326531,
          -0.4693877551020409,
          -0.4285714285714286,
          -0.3877551020408164,
          -0.34693877551020413,
          -0.30612244897959184,
          -0.26530612244897966,
          -0.22448979591836737,
          -0.1836734693877552,
          -0.1428571428571429,
          -0.10204081632653073,
          -0.061224489795918435,
          -0.020408163265306145,
          0.020408163265306145,
          0.06122448979591821,
          0.1020408163265305,
          0.1428571428571428,
          0.18367346938775508,
          0.22448979591836715,
          0.26530612244897944,
          0.30612244897959173,
          0.346938775510204,
          0.3877551020408163,
          0.4285714285714284,
          0.46938775510204067,
          0.510204081632653,
          0.5510204081632653,
          0.5918367346938773,
          0.6326530612244896,
          0.6734693877551019,
          0.7142857142857142,
          0.7551020408163265,
          0.7959183673469385,
          0.8367346938775508,
          0.8775510204081631,
          0.9183673469387754,
          0.9591836734693877,
          1
         ],
         "xaxis": "x4",
         "y": [
          0,
          0,
          0,
          0,
          0,
          0.02040816326530636,
          0.22448979591836773,
          0.42857142857142855,
          0.6326530612244894,
          0.8367346938775507,
          1,
          1,
          1,
          1,
          1,
          1,
          1,
          1,
          1,
          1,
          0.9836734693877552,
          0.942857142857143,
          0.9020408163265308,
          0.8612244897959185,
          0.8204081632653062,
          0.7795918367346939,
          0.7387755102040818,
          0.6979591836734695,
          0.6571428571428573,
          0.616326530612245,
          0.5755102040816329,
          0.5346938775510206,
          0.4938775510204083,
          0.453061224489796,
          0.41224489795918373,
          0.37142857142857166,
          0.3306122448979594,
          0.2897959183673471,
          0.2489795918367348,
          0.20816326530612272,
          0.16734693877551043,
          0.12653061224489814,
          0.08571428571428585,
          0.044897959183673564,
          0.0040816326530614955,
          0,
          0,
          0,
          0,
          0
         ],
         "yaxis": "y4"
        },
        {
         "type": "scatter",
         "x": [
          -1,
          -0.9591836734693877,
          -0.9183673469387755,
          -0.8775510204081632,
          -0.8367346938775511,
          -0.7959183673469388,
          -0.7551020408163265,
          -0.7142857142857143,
          -0.6734693877551021,
          -0.6326530612244898,
          -0.5918367346938775,
          -0.5510204081632654,
          -0.5102040816326531,
          -0.4693877551020409,
          -0.4285714285714286,
          -0.3877551020408164,
          -0.34693877551020413,
          -0.30612244897959184,
          -0.26530612244897966,
          -0.22448979591836737,
          -0.1836734693877552,
          -0.1428571428571429,
          -0.10204081632653073,
          -0.061224489795918435,
          -0.020408163265306145,
          0.020408163265306145,
          0.06122448979591821,
          0.1020408163265305,
          0.1428571428571428,
          0.18367346938775508,
          0.22448979591836715,
          0.26530612244897944,
          0.30612244897959173,
          0.346938775510204,
          0.3877551020408163,
          0.4285714285714284,
          0.46938775510204067,
          0.510204081632653,
          0.5510204081632653,
          0.5918367346938773,
          0.6326530612244896,
          0.6734693877551019,
          0.7142857142857142,
          0.7551020408163265,
          0.7959183673469385,
          0.8367346938775508,
          0.8775510204081631,
          0.9183673469387754,
          0.9591836734693877,
          1
         ],
         "xaxis": "x5",
         "y": [
          1,
          1,
          1,
          1,
          1,
          0.9795918367346936,
          0.7755102040816323,
          0.5714285714285714,
          0.3673469387755106,
          0.16326530612244922,
          0,
          0,
          0,
          0,
          0,
          0,
          0,
          0,
          0,
          0,
          0,
          0,
          0,
          0,
          0,
          0,
          0,
          0,
          0,
          0,
          0,
          0,
          0,
          0,
          0,
          0,
          0,
          0,
          0,
          0,
          0,
          0,
          0,
          0,
          0,
          0,
          0,
          0,
          0,
          0
         ],
         "yaxis": "y5"
        },
        {
         "type": "scatter",
         "x": [
          -1,
          -0.9591836734693877,
          -0.9183673469387755,
          -0.8775510204081632,
          -0.8367346938775511,
          -0.7959183673469388,
          -0.7551020408163265,
          -0.7142857142857143,
          -0.6734693877551021,
          -0.6326530612244898,
          -0.5918367346938775,
          -0.5510204081632654,
          -0.5102040816326531,
          -0.4693877551020409,
          -0.4285714285714286,
          -0.3877551020408164,
          -0.34693877551020413,
          -0.30612244897959184,
          -0.26530612244897966,
          -0.22448979591836737,
          -0.1836734693877552,
          -0.1428571428571429,
          -0.10204081632653073,
          -0.061224489795918435,
          -0.020408163265306145,
          0.020408163265306145,
          0.06122448979591821,
          0.1020408163265305,
          0.1428571428571428,
          0.18367346938775508,
          0.22448979591836715,
          0.26530612244897944,
          0.30612244897959173,
          0.346938775510204,
          0.3877551020408163,
          0.4285714285714284,
          0.46938775510204067,
          0.510204081632653,
          0.5510204081632653,
          0.5918367346938773,
          0.6326530612244896,
          0.6734693877551019,
          0.7142857142857142,
          0.7551020408163265,
          0.7959183673469385,
          0.8367346938775508,
          0.8775510204081631,
          0.9183673469387754,
          0.9591836734693877,
          1
         ],
         "xaxis": "x6",
         "y": [
          0,
          0,
          0,
          0,
          0,
          0,
          0,
          0,
          0,
          0,
          0,
          0,
          0,
          0,
          0,
          0,
          0,
          0,
          0,
          0,
          0,
          0,
          0,
          0,
          0,
          0,
          0,
          0,
          0,
          0,
          0,
          0,
          0,
          0,
          0,
          0,
          0,
          0,
          0,
          0,
          0.1632653061224481,
          0.3673469387755095,
          0.5714285714285708,
          0.7755102040816323,
          0.9795918367346925,
          1,
          1,
          1,
          1,
          0
         ],
         "yaxis": "y6"
        },
        {
         "type": "scatter",
         "x": [
          -1,
          -0.9591836734693877,
          -0.9183673469387755,
          -0.8775510204081632,
          -0.8367346938775511,
          -0.7959183673469388,
          -0.7551020408163265,
          -0.7142857142857143,
          -0.6734693877551021,
          -0.6326530612244898,
          -0.5918367346938775,
          -0.5510204081632654,
          -0.5102040816326531,
          -0.4693877551020409,
          -0.4285714285714286,
          -0.3877551020408164,
          -0.34693877551020413,
          -0.30612244897959184,
          -0.26530612244897966,
          -0.22448979591836737,
          -0.1836734693877552,
          -0.1428571428571429,
          -0.10204081632653073,
          -0.061224489795918435,
          -0.020408163265306145,
          0.020408163265306145,
          0.06122448979591821,
          0.1020408163265305,
          0.1428571428571428,
          0.18367346938775508,
          0.22448979591836715,
          0.26530612244897944,
          0.30612244897959173,
          0.346938775510204,
          0.3877551020408163,
          0.4285714285714284,
          0.46938775510204067,
          0.510204081632653,
          0.5510204081632653,
          0.5918367346938773,
          0.6326530612244896,
          0.6734693877551019,
          0.7142857142857142,
          0.7551020408163265,
          0.7959183673469385,
          0.8367346938775508,
          0.8775510204081631,
          0.9183673469387754,
          0.9591836734693877,
          1
         ],
         "xaxis": "x7",
         "y": [
          0,
          0,
          0,
          0,
          0,
          0,
          0,
          0,
          0,
          0,
          0,
          0,
          0,
          0,
          0,
          0,
          0,
          0,
          0,
          0,
          0,
          0,
          0,
          0,
          0,
          0.10204081632653073,
          0.30612244897959107,
          0.5102040816326525,
          0.714285714285714,
          0.9183673469387754,
          1,
          1,
          1,
          1,
          1,
          1,
          1,
          1,
          1,
          1,
          0.918367346938776,
          0.8163265306122452,
          0.7142857142857145,
          0.6122448979591838,
          0.5102040816326536,
          0.4081632653061229,
          0.3061224489795922,
          0.20408163265306145,
          0.10204081632653073,
          0
         ],
         "yaxis": "y7"
        },
        {
         "type": "scatter",
         "x": [
          -1,
          -0.9591836734693877,
          -0.9183673469387755,
          -0.8775510204081632,
          -0.8367346938775511,
          -0.7959183673469388,
          -0.7551020408163265,
          -0.7142857142857143,
          -0.6734693877551021,
          -0.6326530612244898,
          -0.5918367346938775,
          -0.5510204081632654,
          -0.5102040816326531,
          -0.4693877551020409,
          -0.4285714285714286,
          -0.3877551020408164,
          -0.34693877551020413,
          -0.30612244897959184,
          -0.26530612244897966,
          -0.22448979591836737,
          -0.1836734693877552,
          -0.1428571428571429,
          -0.10204081632653073,
          -0.061224489795918435,
          -0.020408163265306145,
          0.020408163265306145,
          0.06122448979591821,
          0.1020408163265305,
          0.1428571428571428,
          0.18367346938775508,
          0.22448979591836715,
          0.26530612244897944,
          0.30612244897959173,
          0.346938775510204,
          0.3877551020408163,
          0.4285714285714284,
          0.46938775510204067,
          0.510204081632653,
          0.5510204081632653,
          0.5918367346938773,
          0.6326530612244896,
          0.6734693877551019,
          0.7142857142857142,
          0.7551020408163265,
          0.7959183673469385,
          0.8367346938775508,
          0.8775510204081631,
          0.9183673469387754,
          0.9591836734693877,
          1
         ],
         "xaxis": "x8",
         "y": [
          0,
          0,
          0,
          0,
          0,
          0.02040816326530636,
          0.22448979591836773,
          0.42857142857142855,
          0.6326530612244894,
          0.8367346938775507,
          1,
          1,
          1,
          1,
          1,
          1,
          1,
          1,
          1,
          1,
          0.918367346938776,
          0.7142857142857145,
          0.5102040816326536,
          0.3061224489795922,
          0.10204081632653073,
          0,
          0,
          0,
          0,
          0,
          0,
          0,
          0,
          0,
          0,
          0,
          0,
          0,
          0,
          0,
          0,
          0,
          0,
          0,
          0,
          0,
          0,
          0,
          0,
          0
         ],
         "yaxis": "y8"
        },
        {
         "type": "scatter",
         "x": [
          -1,
          -0.9591836734693877,
          -0.9183673469387755,
          -0.8775510204081632,
          -0.8367346938775511,
          -0.7959183673469388,
          -0.7551020408163265,
          -0.7142857142857143,
          -0.6734693877551021,
          -0.6326530612244898,
          -0.5918367346938775,
          -0.5510204081632654,
          -0.5102040816326531,
          -0.4693877551020409,
          -0.4285714285714286,
          -0.3877551020408164,
          -0.34693877551020413,
          -0.30612244897959184,
          -0.26530612244897966,
          -0.22448979591836737,
          -0.1836734693877552,
          -0.1428571428571429,
          -0.10204081632653073,
          -0.061224489795918435,
          -0.020408163265306145,
          0.020408163265306145,
          0.06122448979591821,
          0.1020408163265305,
          0.1428571428571428,
          0.18367346938775508,
          0.22448979591836715,
          0.26530612244897944,
          0.30612244897959173,
          0.346938775510204,
          0.3877551020408163,
          0.4285714285714284,
          0.46938775510204067,
          0.510204081632653,
          0.5510204081632653,
          0.5918367346938773,
          0.6326530612244896,
          0.6734693877551019,
          0.7142857142857142,
          0.7551020408163265,
          0.7959183673469385,
          0.8367346938775508,
          0.8775510204081631,
          0.9183673469387754,
          0.9591836734693877,
          1
         ],
         "xaxis": "x9",
         "y": [
          0,
          0,
          0,
          0,
          0,
          0,
          0,
          0,
          0,
          0,
          0,
          0,
          0,
          0,
          0,
          0,
          0,
          0,
          0,
          0,
          0,
          0,
          0,
          0,
          0,
          0.10204081632653073,
          0.30612244897959107,
          0.5102040816326525,
          0.714285714285714,
          0.9183673469387754,
          1,
          1,
          1,
          1,
          1,
          1,
          1,
          1,
          1,
          1,
          0.8367346938775518,
          0.6326530612244905,
          0.4285714285714291,
          0.22448979591836773,
          0.02040816326530747,
          0,
          0,
          0,
          0,
          0
         ],
         "yaxis": "y9"
        },
        {
         "type": "scatter",
         "x": [
          -1,
          -0.9591836734693877,
          -0.9183673469387755,
          -0.8775510204081632,
          -0.8367346938775511,
          -0.7959183673469388,
          -0.7551020408163265,
          -0.7142857142857143,
          -0.6734693877551021,
          -0.6326530612244898,
          -0.5918367346938775,
          -0.5510204081632654,
          -0.5102040816326531,
          -0.4693877551020409,
          -0.4285714285714286,
          -0.3877551020408164,
          -0.34693877551020413,
          -0.30612244897959184,
          -0.26530612244897966,
          -0.22448979591836737,
          -0.1836734693877552,
          -0.1428571428571429,
          -0.10204081632653073,
          -0.061224489795918435,
          -0.020408163265306145,
          0.020408163265306145,
          0.06122448979591821,
          0.1020408163265305,
          0.1428571428571428,
          0.18367346938775508,
          0.22448979591836715,
          0.26530612244897944,
          0.30612244897959173,
          0.346938775510204,
          0.3877551020408163,
          0.4285714285714284,
          0.46938775510204067,
          0.510204081632653,
          0.5510204081632653,
          0.5918367346938773,
          0.6326530612244896,
          0.6734693877551019,
          0.7142857142857142,
          0.7551020408163265,
          0.7959183673469385,
          0.8367346938775508,
          0.8775510204081631,
          0.9183673469387754,
          0.9591836734693877,
          1
         ],
         "xaxis": "x10",
         "y": [
          0,
          0,
          0,
          0,
          0,
          0,
          0,
          0,
          0,
          0,
          0,
          0,
          0,
          0,
          0,
          0,
          0,
          0,
          0,
          0,
          0.08163265306122408,
          0.28571428571428553,
          0.48979591836734643,
          0.6938775510204078,
          0.8979591836734693,
          0.8979591836734693,
          0.6938775510204089,
          0.48979591836734754,
          0.2857142857142861,
          0.08163265306122464,
          0,
          0,
          0,
          0,
          0,
          0,
          0,
          0,
          0,
          0,
          0,
          0,
          0,
          0,
          0,
          0,
          0,
          0,
          0,
          0
         ],
         "yaxis": "y10"
        },
        {
         "type": "scatter",
         "x": [
          -1,
          -0.9591836734693877,
          -0.9183673469387755,
          -0.8775510204081632,
          -0.8367346938775511,
          -0.7959183673469388,
          -0.7551020408163265,
          -0.7142857142857143,
          -0.6734693877551021,
          -0.6326530612244898,
          -0.5918367346938775,
          -0.5510204081632654,
          -0.5102040816326531,
          -0.4693877551020409,
          -0.4285714285714286,
          -0.3877551020408164,
          -0.34693877551020413,
          -0.30612244897959184,
          -0.26530612244897966,
          -0.22448979591836737,
          -0.1836734693877552,
          -0.1428571428571429,
          -0.10204081632653073,
          -0.061224489795918435,
          -0.020408163265306145,
          0.020408163265306145,
          0.06122448979591821,
          0.1020408163265305,
          0.1428571428571428,
          0.18367346938775508,
          0.22448979591836715,
          0.26530612244897944,
          0.30612244897959173,
          0.346938775510204,
          0.3877551020408163,
          0.4285714285714284,
          0.46938775510204067,
          0.510204081632653,
          0.5510204081632653,
          0.5918367346938773,
          0.6326530612244896,
          0.6734693877551019,
          0.7142857142857142,
          0.7551020408163265,
          0.7959183673469385,
          0.8367346938775508,
          0.8775510204081631,
          0.9183673469387754,
          0.9591836734693877,
          1
         ],
         "xaxis": "x11",
         "y": [
          0,
          0,
          0,
          0,
          0,
          0.02040816326530636,
          0.22448979591836773,
          0.42857142857142855,
          0.6326530612244894,
          0.8367346938775507,
          1,
          1,
          1,
          1,
          1,
          1,
          1,
          1,
          1,
          1,
          0.918367346938776,
          0.7142857142857145,
          0.5102040816326536,
          0.3061224489795922,
          0.10204081632653073,
          0,
          0,
          0,
          0,
          0,
          0,
          0,
          0,
          0,
          0,
          0,
          0,
          0,
          0,
          0,
          0,
          0,
          0,
          0,
          0,
          0,
          0,
          0,
          0,
          0
         ],
         "yaxis": "y11"
        },
        {
         "type": "scatter",
         "x": [
          -1,
          -0.9591836734693877,
          -0.9183673469387755,
          -0.8775510204081632,
          -0.8367346938775511,
          -0.7959183673469388,
          -0.7551020408163265,
          -0.7142857142857143,
          -0.6734693877551021,
          -0.6326530612244898,
          -0.5918367346938775,
          -0.5510204081632654,
          -0.5102040816326531,
          -0.4693877551020409,
          -0.4285714285714286,
          -0.3877551020408164,
          -0.34693877551020413,
          -0.30612244897959184,
          -0.26530612244897966,
          -0.22448979591836737,
          -0.1836734693877552,
          -0.1428571428571429,
          -0.10204081632653073,
          -0.061224489795918435,
          -0.020408163265306145,
          0.020408163265306145,
          0.06122448979591821,
          0.1020408163265305,
          0.1428571428571428,
          0.18367346938775508,
          0.22448979591836715,
          0.26530612244897944,
          0.30612244897959173,
          0.346938775510204,
          0.3877551020408163,
          0.4285714285714284,
          0.46938775510204067,
          0.510204081632653,
          0.5510204081632653,
          0.5918367346938773,
          0.6326530612244896,
          0.6734693877551019,
          0.7142857142857142,
          0.7551020408163265,
          0.7959183673469385,
          0.8367346938775508,
          0.8775510204081631,
          0.9183673469387754,
          0.9591836734693877,
          1
         ],
         "xaxis": "x12",
         "y": [
          0,
          0,
          0,
          0,
          0,
          0,
          0,
          0,
          0,
          0,
          0,
          0,
          0,
          0,
          0,
          0,
          0,
          0,
          0,
          0,
          0.08163265306122408,
          0.28571428571428553,
          0.48979591836734643,
          0.6938775510204078,
          0.8979591836734693,
          0.8979591836734693,
          0.6938775510204089,
          0.48979591836734754,
          0.2857142857142861,
          0.08163265306122464,
          0,
          0,
          0,
          0,
          0,
          0,
          0,
          0,
          0,
          0,
          0,
          0,
          0,
          0,
          0,
          0,
          0,
          0,
          0,
          0
         ],
         "yaxis": "y12"
        },
        {
         "type": "scatter",
         "x": [
          -1,
          -0.9591836734693877,
          -0.9183673469387755,
          -0.8775510204081632,
          -0.8367346938775511,
          -0.7959183673469388,
          -0.7551020408163265,
          -0.7142857142857143,
          -0.6734693877551021,
          -0.6326530612244898,
          -0.5918367346938775,
          -0.5510204081632654,
          -0.5102040816326531,
          -0.4693877551020409,
          -0.4285714285714286,
          -0.3877551020408164,
          -0.34693877551020413,
          -0.30612244897959184,
          -0.26530612244897966,
          -0.22448979591836737,
          -0.1836734693877552,
          -0.1428571428571429,
          -0.10204081632653073,
          -0.061224489795918435,
          -0.020408163265306145,
          0.020408163265306145,
          0.06122448979591821,
          0.1020408163265305,
          0.1428571428571428,
          0.18367346938775508,
          0.22448979591836715,
          0.26530612244897944,
          0.30612244897959173,
          0.346938775510204,
          0.3877551020408163,
          0.4285714285714284,
          0.46938775510204067,
          0.510204081632653,
          0.5510204081632653,
          0.5918367346938773,
          0.6326530612244896,
          0.6734693877551019,
          0.7142857142857142,
          0.7551020408163265,
          0.7959183673469385,
          0.8367346938775508,
          0.8775510204081631,
          0.9183673469387754,
          0.9591836734693877,
          1
         ],
         "xaxis": "x13",
         "y": [
          0,
          0,
          0,
          0,
          0,
          0,
          0,
          0,
          0,
          0,
          0,
          0,
          0,
          0,
          0,
          0,
          0,
          0,
          0,
          0,
          0.08163265306122408,
          0.28571428571428553,
          0.48979591836734643,
          0.6938775510204078,
          0.8979591836734693,
          0.8979591836734693,
          0.6938775510204089,
          0.48979591836734754,
          0.2857142857142861,
          0.08163265306122464,
          0,
          0,
          0,
          0,
          0,
          0,
          0,
          0,
          0,
          0,
          0,
          0,
          0,
          0,
          0,
          0,
          0,
          0,
          0,
          0
         ],
         "yaxis": "y13"
        },
        {
         "type": "scatter",
         "x": [
          -1,
          -0.9591836734693877,
          -0.9183673469387755,
          -0.8775510204081632,
          -0.8367346938775511,
          -0.7959183673469388,
          -0.7551020408163265,
          -0.7142857142857143,
          -0.6734693877551021,
          -0.6326530612244898,
          -0.5918367346938775,
          -0.5510204081632654,
          -0.5102040816326531,
          -0.4693877551020409,
          -0.4285714285714286,
          -0.3877551020408164,
          -0.34693877551020413,
          -0.30612244897959184,
          -0.26530612244897966,
          -0.22448979591836737,
          -0.1836734693877552,
          -0.1428571428571429,
          -0.10204081632653073,
          -0.061224489795918435,
          -0.020408163265306145,
          0.020408163265306145,
          0.06122448979591821,
          0.1020408163265305,
          0.1428571428571428,
          0.18367346938775508,
          0.22448979591836715,
          0.26530612244897944,
          0.30612244897959173,
          0.346938775510204,
          0.3877551020408163,
          0.4285714285714284,
          0.46938775510204067,
          0.510204081632653,
          0.5510204081632653,
          0.5918367346938773,
          0.6326530612244896,
          0.6734693877551019,
          0.7142857142857142,
          0.7551020408163265,
          0.7959183673469385,
          0.8367346938775508,
          0.8775510204081631,
          0.9183673469387754,
          0.9591836734693877,
          1
         ],
         "xaxis": "x14",
         "y": [
          0,
          0,
          0,
          0,
          0,
          0,
          0,
          0,
          0,
          0,
          0,
          0,
          0,
          0,
          0,
          0,
          0,
          0,
          0,
          0,
          0,
          0,
          0,
          0,
          0,
          0.10204081632653073,
          0.30612244897959107,
          0.5102040816326525,
          0.714285714285714,
          0.9183673469387754,
          1,
          1,
          1,
          1,
          1,
          1,
          1,
          1,
          1,
          1,
          0.8367346938775518,
          0.6326530612244905,
          0.4285714285714291,
          0.22448979591836773,
          0.02040816326530747,
          0,
          0,
          0,
          0,
          0
         ],
         "yaxis": "y14"
        },
        {
         "type": "scatter",
         "x": [
          -1,
          -0.9591836734693877,
          -0.9183673469387755,
          -0.8775510204081632,
          -0.8367346938775511,
          -0.7959183673469388,
          -0.7551020408163265,
          -0.7142857142857143,
          -0.6734693877551021,
          -0.6326530612244898,
          -0.5918367346938775,
          -0.5510204081632654,
          -0.5102040816326531,
          -0.4693877551020409,
          -0.4285714285714286,
          -0.3877551020408164,
          -0.34693877551020413,
          -0.30612244897959184,
          -0.26530612244897966,
          -0.22448979591836737,
          -0.1836734693877552,
          -0.1428571428571429,
          -0.10204081632653073,
          -0.061224489795918435,
          -0.020408163265306145,
          0.020408163265306145,
          0.06122448979591821,
          0.1020408163265305,
          0.1428571428571428,
          0.18367346938775508,
          0.22448979591836715,
          0.26530612244897944,
          0.30612244897959173,
          0.346938775510204,
          0.3877551020408163,
          0.4285714285714284,
          0.46938775510204067,
          0.510204081632653,
          0.5510204081632653,
          0.5918367346938773,
          0.6326530612244896,
          0.6734693877551019,
          0.7142857142857142,
          0.7551020408163265,
          0.7959183673469385,
          0.8367346938775508,
          0.8775510204081631,
          0.9183673469387754,
          0.9591836734693877,
          1
         ],
         "xaxis": "x15",
         "y": [
          0,
          0,
          0,
          0,
          0,
          0,
          0,
          0,
          0,
          0,
          0,
          0,
          0,
          0,
          0,
          0,
          0,
          0,
          0,
          0,
          0.08163265306122408,
          0.28571428571428553,
          0.48979591836734643,
          0.6938775510204078,
          0.8979591836734693,
          0.8979591836734693,
          0.6938775510204089,
          0.48979591836734754,
          0.2857142857142861,
          0.08163265306122464,
          0,
          0,
          0,
          0,
          0,
          0,
          0,
          0,
          0,
          0,
          0,
          0,
          0,
          0,
          0,
          0,
          0,
          0,
          0,
          0
         ],
         "yaxis": "y15"
        },
        {
         "type": "scatter",
         "x": [
          -1,
          -0.9591836734693877,
          -0.9183673469387755,
          -0.8775510204081632,
          -0.8367346938775511,
          -0.7959183673469388,
          -0.7551020408163265,
          -0.7142857142857143,
          -0.6734693877551021,
          -0.6326530612244898,
          -0.5918367346938775,
          -0.5510204081632654,
          -0.5102040816326531,
          -0.4693877551020409,
          -0.4285714285714286,
          -0.3877551020408164,
          -0.34693877551020413,
          -0.30612244897959184,
          -0.26530612244897966,
          -0.22448979591836737,
          -0.1836734693877552,
          -0.1428571428571429,
          -0.10204081632653073,
          -0.061224489795918435,
          -0.020408163265306145,
          0.020408163265306145,
          0.06122448979591821,
          0.1020408163265305,
          0.1428571428571428,
          0.18367346938775508,
          0.22448979591836715,
          0.26530612244897944,
          0.30612244897959173,
          0.346938775510204,
          0.3877551020408163,
          0.4285714285714284,
          0.46938775510204067,
          0.510204081632653,
          0.5510204081632653,
          0.5918367346938773,
          0.6326530612244896,
          0.6734693877551019,
          0.7142857142857142,
          0.7551020408163265,
          0.7959183673469385,
          0.8367346938775508,
          0.8775510204081631,
          0.9183673469387754,
          0.9591836734693877,
          1
         ],
         "xaxis": "x16",
         "y": [
          1,
          1,
          1,
          1,
          1,
          0.9948979591836734,
          0.943877551020408,
          0.8928571428571428,
          0.8418367346938777,
          0.7908163265306123,
          0.7397959183673469,
          0.6887755102040817,
          0.6377551020408163,
          0.5867346938775511,
          0.5357142857142857,
          0.4846938775510205,
          0.43367346938775514,
          0.3826530612244898,
          0.3316326530612246,
          0.2806122448979592,
          0.229591836734694,
          0.17857142857142863,
          0.1275510204081634,
          0.07653061224489804,
          0.02551020408163268,
          0,
          0,
          0,
          0,
          0,
          0,
          0,
          0,
          0,
          0,
          0,
          0,
          0,
          0,
          0,
          0,
          0,
          0,
          0,
          0,
          0,
          0,
          0,
          0,
          0
         ],
         "yaxis": "y16"
        },
        {
         "type": "scatter",
         "x": [
          -1,
          -0.9591836734693877,
          -0.9183673469387755,
          -0.8775510204081632,
          -0.8367346938775511,
          -0.7959183673469388,
          -0.7551020408163265,
          -0.7142857142857143,
          -0.6734693877551021,
          -0.6326530612244898,
          -0.5918367346938775,
          -0.5510204081632654,
          -0.5102040816326531,
          -0.4693877551020409,
          -0.4285714285714286,
          -0.3877551020408164,
          -0.34693877551020413,
          -0.30612244897959184,
          -0.26530612244897966,
          -0.22448979591836737,
          -0.1836734693877552,
          -0.1428571428571429,
          -0.10204081632653073,
          -0.061224489795918435,
          -0.020408163265306145,
          0.020408163265306145,
          0.06122448979591821,
          0.1020408163265305,
          0.1428571428571428,
          0.18367346938775508,
          0.22448979591836715,
          0.26530612244897944,
          0.30612244897959173,
          0.346938775510204,
          0.3877551020408163,
          0.4285714285714284,
          0.46938775510204067,
          0.510204081632653,
          0.5510204081632653,
          0.5918367346938773,
          0.6326530612244896,
          0.6734693877551019,
          0.7142857142857142,
          0.7551020408163265,
          0.7959183673469385,
          0.8367346938775508,
          0.8775510204081631,
          0.9183673469387754,
          0.9591836734693877,
          1
         ],
         "xaxis": "x17",
         "y": [
          0,
          0,
          0,
          0,
          0,
          0,
          0,
          0,
          0,
          0,
          0,
          0,
          0,
          0,
          0,
          0,
          0,
          0,
          0,
          0,
          0,
          0,
          0,
          0,
          0,
          0.10204081632653073,
          0.30612244897959107,
          0.5102040816326525,
          0.714285714285714,
          0.9183673469387754,
          1,
          1,
          1,
          1,
          1,
          1,
          1,
          1,
          1,
          1,
          0.8367346938775518,
          0.6326530612244905,
          0.4285714285714291,
          0.22448979591836773,
          0.02040816326530747,
          0,
          0,
          0,
          0,
          0
         ],
         "yaxis": "y17"
        },
        {
         "type": "scatter",
         "x": [
          -1,
          -0.9591836734693877,
          -0.9183673469387755,
          -0.8775510204081632,
          -0.8367346938775511,
          -0.7959183673469388,
          -0.7551020408163265,
          -0.7142857142857143,
          -0.6734693877551021,
          -0.6326530612244898,
          -0.5918367346938775,
          -0.5510204081632654,
          -0.5102040816326531,
          -0.4693877551020409,
          -0.4285714285714286,
          -0.3877551020408164,
          -0.34693877551020413,
          -0.30612244897959184,
          -0.26530612244897966,
          -0.22448979591836737,
          -0.1836734693877552,
          -0.1428571428571429,
          -0.10204081632653073,
          -0.061224489795918435,
          -0.020408163265306145,
          0.020408163265306145,
          0.06122448979591821,
          0.1020408163265305,
          0.1428571428571428,
          0.18367346938775508,
          0.22448979591836715,
          0.26530612244897944,
          0.30612244897959173,
          0.346938775510204,
          0.3877551020408163,
          0.4285714285714284,
          0.46938775510204067,
          0.510204081632653,
          0.5510204081632653,
          0.5918367346938773,
          0.6326530612244896,
          0.6734693877551019,
          0.7142857142857142,
          0.7551020408163265,
          0.7959183673469385,
          0.8367346938775508,
          0.8775510204081631,
          0.9183673469387754,
          0.9591836734693877,
          1
         ],
         "xaxis": "x18",
         "y": [
          0,
          0,
          0,
          0,
          0,
          0.02040816326530636,
          0.22448979591836773,
          0.42857142857142855,
          0.6326530612244894,
          0.8367346938775507,
          1,
          1,
          1,
          1,
          1,
          1,
          1,
          1,
          1,
          1,
          0.918367346938776,
          0.7142857142857145,
          0.5102040816326536,
          0.3061224489795922,
          0.10204081632653073,
          0,
          0,
          0,
          0,
          0,
          0,
          0,
          0,
          0,
          0,
          0,
          0,
          0,
          0,
          0,
          0,
          0,
          0,
          0,
          0,
          0,
          0,
          0,
          0,
          0
         ],
         "yaxis": "y18"
        },
        {
         "type": "scatter",
         "x": [
          -1,
          -0.9591836734693877,
          -0.9183673469387755,
          -0.8775510204081632,
          -0.8367346938775511,
          -0.7959183673469388,
          -0.7551020408163265,
          -0.7142857142857143,
          -0.6734693877551021,
          -0.6326530612244898,
          -0.5918367346938775,
          -0.5510204081632654,
          -0.5102040816326531,
          -0.4693877551020409,
          -0.4285714285714286,
          -0.3877551020408164,
          -0.34693877551020413,
          -0.30612244897959184,
          -0.26530612244897966,
          -0.22448979591836737,
          -0.1836734693877552,
          -0.1428571428571429,
          -0.10204081632653073,
          -0.061224489795918435,
          -0.020408163265306145,
          0.020408163265306145,
          0.06122448979591821,
          0.1020408163265305,
          0.1428571428571428,
          0.18367346938775508,
          0.22448979591836715,
          0.26530612244897944,
          0.30612244897959173,
          0.346938775510204,
          0.3877551020408163,
          0.4285714285714284,
          0.46938775510204067,
          0.510204081632653,
          0.5510204081632653,
          0.5918367346938773,
          0.6326530612244896,
          0.6734693877551019,
          0.7142857142857142,
          0.7551020408163265,
          0.7959183673469385,
          0.8367346938775508,
          0.8775510204081631,
          0.9183673469387754,
          0.9591836734693877,
          1
         ],
         "xaxis": "x19",
         "y": [
          1,
          1,
          1,
          1,
          1,
          0.9974489795918368,
          0.971938775510204,
          0.9464285714285714,
          0.9209183673469388,
          0.8954081632653061,
          0.8698979591836734,
          0.8443877551020409,
          0.8188775510204083,
          0.7933673469387755,
          0.7678571428571429,
          0.7423469387755102,
          0.7168367346938775,
          0.6913265306122448,
          0.6658163265306123,
          0.6403061224489796,
          0.614795918367347,
          0.5892857142857143,
          0.5637755102040817,
          0.538265306122449,
          0.5127551020408163,
          0.4872448979591837,
          0.4617346938775511,
          0.43622448979591844,
          0.41071428571428575,
          0.3852040816326531,
          0.35969387755102056,
          0.3341836734693879,
          0.3086734693877552,
          0.2831632653061225,
          0.25765306122448983,
          0.2321428571428573,
          0.2066326530612246,
          0.18112244897959193,
          0.15561224489795925,
          0.1301020408163267,
          0.10459183673469402,
          0.07908163265306134,
          0.05357142857142866,
          0.028061224489795977,
          0.0025510204081634347,
          0,
          0,
          0,
          0,
          0
         ],
         "yaxis": "y19"
        },
        {
         "type": "scatter",
         "x": [
          -1,
          -0.9591836734693877,
          -0.9183673469387755,
          -0.8775510204081632,
          -0.8367346938775511,
          -0.7959183673469388,
          -0.7551020408163265,
          -0.7142857142857143,
          -0.6734693877551021,
          -0.6326530612244898,
          -0.5918367346938775,
          -0.5510204081632654,
          -0.5102040816326531,
          -0.4693877551020409,
          -0.4285714285714286,
          -0.3877551020408164,
          -0.34693877551020413,
          -0.30612244897959184,
          -0.26530612244897966,
          -0.22448979591836737,
          -0.1836734693877552,
          -0.1428571428571429,
          -0.10204081632653073,
          -0.061224489795918435,
          -0.020408163265306145,
          0.020408163265306145,
          0.06122448979591821,
          0.1020408163265305,
          0.1428571428571428,
          0.18367346938775508,
          0.22448979591836715,
          0.26530612244897944,
          0.30612244897959173,
          0.346938775510204,
          0.3877551020408163,
          0.4285714285714284,
          0.46938775510204067,
          0.510204081632653,
          0.5510204081632653,
          0.5918367346938773,
          0.6326530612244896,
          0.6734693877551019,
          0.7142857142857142,
          0.7551020408163265,
          0.7959183673469385,
          0.8367346938775508,
          0.8775510204081631,
          0.9183673469387754,
          0.9591836734693877,
          1
         ],
         "xaxis": "x20",
         "y": [
          1,
          1,
          1,
          1,
          1,
          0.9795918367346936,
          0.7755102040816323,
          0.5714285714285714,
          0.3673469387755106,
          0.16326530612244922,
          0,
          0,
          0,
          0,
          0,
          0,
          0,
          0,
          0,
          0,
          0,
          0,
          0,
          0,
          0,
          0,
          0,
          0,
          0,
          0,
          0,
          0,
          0,
          0,
          0,
          0,
          0,
          0,
          0,
          0,
          0,
          0,
          0,
          0,
          0,
          0,
          0,
          0,
          0,
          0
         ],
         "yaxis": "y20"
        },
        {
         "type": "scatter",
         "x": [
          -1,
          -0.9591836734693877,
          -0.9183673469387755,
          -0.8775510204081632,
          -0.8367346938775511,
          -0.7959183673469388,
          -0.7551020408163265,
          -0.7142857142857143,
          -0.6734693877551021,
          -0.6326530612244898,
          -0.5918367346938775,
          -0.5510204081632654,
          -0.5102040816326531,
          -0.4693877551020409,
          -0.4285714285714286,
          -0.3877551020408164,
          -0.34693877551020413,
          -0.30612244897959184,
          -0.26530612244897966,
          -0.22448979591836737,
          -0.1836734693877552,
          -0.1428571428571429,
          -0.10204081632653073,
          -0.061224489795918435,
          -0.020408163265306145,
          0.020408163265306145,
          0.06122448979591821,
          0.1020408163265305,
          0.1428571428571428,
          0.18367346938775508,
          0.22448979591836715,
          0.26530612244897944,
          0.30612244897959173,
          0.346938775510204,
          0.3877551020408163,
          0.4285714285714284,
          0.46938775510204067,
          0.510204081632653,
          0.5510204081632653,
          0.5918367346938773,
          0.6326530612244896,
          0.6734693877551019,
          0.7142857142857142,
          0.7551020408163265,
          0.7959183673469385,
          0.8367346938775508,
          0.8775510204081631,
          0.9183673469387754,
          0.9591836734693877,
          1
         ],
         "xaxis": "x21",
         "y": [
          1,
          1,
          1,
          1,
          1,
          0.9795918367346936,
          0.7755102040816323,
          0.5714285714285714,
          0.3673469387755106,
          0.16326530612244922,
          0,
          0,
          0,
          0,
          0,
          0,
          0,
          0,
          0,
          0,
          0,
          0,
          0,
          0,
          0,
          0,
          0,
          0,
          0,
          0,
          0,
          0,
          0,
          0,
          0,
          0,
          0,
          0,
          0,
          0,
          0,
          0,
          0,
          0,
          0,
          0,
          0,
          0,
          0,
          0
         ],
         "yaxis": "y21"
        },
        {
         "type": "scatter",
         "x": [
          -1,
          -0.9591836734693877,
          -0.9183673469387755,
          -0.8775510204081632,
          -0.8367346938775511,
          -0.7959183673469388,
          -0.7551020408163265,
          -0.7142857142857143,
          -0.6734693877551021,
          -0.6326530612244898,
          -0.5918367346938775,
          -0.5510204081632654,
          -0.5102040816326531,
          -0.4693877551020409,
          -0.4285714285714286,
          -0.3877551020408164,
          -0.34693877551020413,
          -0.30612244897959184,
          -0.26530612244897966,
          -0.22448979591836737,
          -0.1836734693877552,
          -0.1428571428571429,
          -0.10204081632653073,
          -0.061224489795918435,
          -0.020408163265306145,
          0.020408163265306145,
          0.06122448979591821,
          0.1020408163265305,
          0.1428571428571428,
          0.18367346938775508,
          0.22448979591836715,
          0.26530612244897944,
          0.30612244897959173,
          0.346938775510204,
          0.3877551020408163,
          0.4285714285714284,
          0.46938775510204067,
          0.510204081632653,
          0.5510204081632653,
          0.5918367346938773,
          0.6326530612244896,
          0.6734693877551019,
          0.7142857142857142,
          0.7551020408163265,
          0.7959183673469385,
          0.8367346938775508,
          0.8775510204081631,
          0.9183673469387754,
          0.9591836734693877,
          1
         ],
         "xaxis": "x22",
         "y": [
          0,
          0,
          0,
          0,
          0,
          0,
          0,
          0,
          0,
          0,
          0,
          0,
          0,
          0,
          0,
          0,
          0,
          0,
          0,
          0,
          0,
          0,
          0,
          0,
          0,
          0.10204081632653073,
          0.30612244897959107,
          0.5102040816326525,
          0.714285714285714,
          0.9183673469387754,
          1,
          1,
          1,
          1,
          1,
          1,
          1,
          1,
          1,
          1,
          0.918367346938776,
          0.8163265306122452,
          0.7142857142857145,
          0.6122448979591838,
          0.5102040816326536,
          0.4081632653061229,
          0.3061224489795922,
          0.20408163265306145,
          0.10204081632653073,
          0
         ],
         "yaxis": "y22"
        },
        {
         "type": "scatter",
         "x": [
          -1,
          -0.9591836734693877,
          -0.9183673469387755,
          -0.8775510204081632,
          -0.8367346938775511,
          -0.7959183673469388,
          -0.7551020408163265,
          -0.7142857142857143,
          -0.6734693877551021,
          -0.6326530612244898,
          -0.5918367346938775,
          -0.5510204081632654,
          -0.5102040816326531,
          -0.4693877551020409,
          -0.4285714285714286,
          -0.3877551020408164,
          -0.34693877551020413,
          -0.30612244897959184,
          -0.26530612244897966,
          -0.22448979591836737,
          -0.1836734693877552,
          -0.1428571428571429,
          -0.10204081632653073,
          -0.061224489795918435,
          -0.020408163265306145,
          0.020408163265306145,
          0.06122448979591821,
          0.1020408163265305,
          0.1428571428571428,
          0.18367346938775508,
          0.22448979591836715,
          0.26530612244897944,
          0.30612244897959173,
          0.346938775510204,
          0.3877551020408163,
          0.4285714285714284,
          0.46938775510204067,
          0.510204081632653,
          0.5510204081632653,
          0.5918367346938773,
          0.6326530612244896,
          0.6734693877551019,
          0.7142857142857142,
          0.7551020408163265,
          0.7959183673469385,
          0.8367346938775508,
          0.8775510204081631,
          0.9183673469387754,
          0.9591836734693877,
          1
         ],
         "xaxis": "x23",
         "y": [
          0,
          0,
          0,
          0,
          0,
          0,
          0,
          0,
          0,
          0,
          0,
          0,
          0,
          0,
          0,
          0,
          0,
          0,
          0,
          0,
          0,
          0,
          0,
          0,
          0,
          0.10204081632653073,
          0.30612244897959107,
          0.5102040816326525,
          0.714285714285714,
          0.9183673469387754,
          1,
          1,
          1,
          1,
          1,
          1,
          1,
          1,
          1,
          1,
          0.918367346938776,
          0.8163265306122452,
          0.7142857142857145,
          0.6122448979591838,
          0.5102040816326536,
          0.4081632653061229,
          0.3061224489795922,
          0.20408163265306145,
          0.10204081632653073,
          0
         ],
         "yaxis": "y23"
        },
        {
         "type": "scatter",
         "x": [
          -1,
          -0.9591836734693877,
          -0.9183673469387755,
          -0.8775510204081632,
          -0.8367346938775511,
          -0.7959183673469388,
          -0.7551020408163265,
          -0.7142857142857143,
          -0.6734693877551021,
          -0.6326530612244898,
          -0.5918367346938775,
          -0.5510204081632654,
          -0.5102040816326531,
          -0.4693877551020409,
          -0.4285714285714286,
          -0.3877551020408164,
          -0.34693877551020413,
          -0.30612244897959184,
          -0.26530612244897966,
          -0.22448979591836737,
          -0.1836734693877552,
          -0.1428571428571429,
          -0.10204081632653073,
          -0.061224489795918435,
          -0.020408163265306145,
          0.020408163265306145,
          0.06122448979591821,
          0.1020408163265305,
          0.1428571428571428,
          0.18367346938775508,
          0.22448979591836715,
          0.26530612244897944,
          0.30612244897959173,
          0.346938775510204,
          0.3877551020408163,
          0.4285714285714284,
          0.46938775510204067,
          0.510204081632653,
          0.5510204081632653,
          0.5918367346938773,
          0.6326530612244896,
          0.6734693877551019,
          0.7142857142857142,
          0.7551020408163265,
          0.7959183673469385,
          0.8367346938775508,
          0.8775510204081631,
          0.9183673469387754,
          0.9591836734693877,
          1
         ],
         "xaxis": "x24",
         "y": [
          1,
          1,
          1,
          1,
          1,
          0.9795918367346936,
          0.7755102040816323,
          0.5714285714285714,
          0.3673469387755106,
          0.16326530612244922,
          0,
          0,
          0,
          0,
          0,
          0,
          0,
          0,
          0,
          0,
          0,
          0,
          0,
          0,
          0,
          0,
          0,
          0,
          0,
          0,
          0,
          0,
          0,
          0,
          0,
          0,
          0,
          0,
          0,
          0,
          0,
          0,
          0,
          0,
          0,
          0,
          0,
          0,
          0,
          0
         ],
         "yaxis": "y24"
        }
       ],
       "layout": {
        "height": 800,
        "template": {
         "data": {
          "bar": [
           {
            "error_x": {
             "color": "#2a3f5f"
            },
            "error_y": {
             "color": "#2a3f5f"
            },
            "marker": {
             "line": {
              "color": "#E5ECF6",
              "width": 0.5
             },
             "pattern": {
              "fillmode": "overlay",
              "size": 10,
              "solidity": 0.2
             }
            },
            "type": "bar"
           }
          ],
          "barpolar": [
           {
            "marker": {
             "line": {
              "color": "#E5ECF6",
              "width": 0.5
             },
             "pattern": {
              "fillmode": "overlay",
              "size": 10,
              "solidity": 0.2
             }
            },
            "type": "barpolar"
           }
          ],
          "carpet": [
           {
            "aaxis": {
             "endlinecolor": "#2a3f5f",
             "gridcolor": "white",
             "linecolor": "white",
             "minorgridcolor": "white",
             "startlinecolor": "#2a3f5f"
            },
            "baxis": {
             "endlinecolor": "#2a3f5f",
             "gridcolor": "white",
             "linecolor": "white",
             "minorgridcolor": "white",
             "startlinecolor": "#2a3f5f"
            },
            "type": "carpet"
           }
          ],
          "choropleth": [
           {
            "colorbar": {
             "outlinewidth": 0,
             "ticks": ""
            },
            "type": "choropleth"
           }
          ],
          "contour": [
           {
            "colorbar": {
             "outlinewidth": 0,
             "ticks": ""
            },
            "colorscale": [
             [
              0,
              "#0d0887"
             ],
             [
              0.1111111111111111,
              "#46039f"
             ],
             [
              0.2222222222222222,
              "#7201a8"
             ],
             [
              0.3333333333333333,
              "#9c179e"
             ],
             [
              0.4444444444444444,
              "#bd3786"
             ],
             [
              0.5555555555555556,
              "#d8576b"
             ],
             [
              0.6666666666666666,
              "#ed7953"
             ],
             [
              0.7777777777777778,
              "#fb9f3a"
             ],
             [
              0.8888888888888888,
              "#fdca26"
             ],
             [
              1,
              "#f0f921"
             ]
            ],
            "type": "contour"
           }
          ],
          "contourcarpet": [
           {
            "colorbar": {
             "outlinewidth": 0,
             "ticks": ""
            },
            "type": "contourcarpet"
           }
          ],
          "heatmap": [
           {
            "colorbar": {
             "outlinewidth": 0,
             "ticks": ""
            },
            "colorscale": [
             [
              0,
              "#0d0887"
             ],
             [
              0.1111111111111111,
              "#46039f"
             ],
             [
              0.2222222222222222,
              "#7201a8"
             ],
             [
              0.3333333333333333,
              "#9c179e"
             ],
             [
              0.4444444444444444,
              "#bd3786"
             ],
             [
              0.5555555555555556,
              "#d8576b"
             ],
             [
              0.6666666666666666,
              "#ed7953"
             ],
             [
              0.7777777777777778,
              "#fb9f3a"
             ],
             [
              0.8888888888888888,
              "#fdca26"
             ],
             [
              1,
              "#f0f921"
             ]
            ],
            "type": "heatmap"
           }
          ],
          "heatmapgl": [
           {
            "colorbar": {
             "outlinewidth": 0,
             "ticks": ""
            },
            "colorscale": [
             [
              0,
              "#0d0887"
             ],
             [
              0.1111111111111111,
              "#46039f"
             ],
             [
              0.2222222222222222,
              "#7201a8"
             ],
             [
              0.3333333333333333,
              "#9c179e"
             ],
             [
              0.4444444444444444,
              "#bd3786"
             ],
             [
              0.5555555555555556,
              "#d8576b"
             ],
             [
              0.6666666666666666,
              "#ed7953"
             ],
             [
              0.7777777777777778,
              "#fb9f3a"
             ],
             [
              0.8888888888888888,
              "#fdca26"
             ],
             [
              1,
              "#f0f921"
             ]
            ],
            "type": "heatmapgl"
           }
          ],
          "histogram": [
           {
            "marker": {
             "pattern": {
              "fillmode": "overlay",
              "size": 10,
              "solidity": 0.2
             }
            },
            "type": "histogram"
           }
          ],
          "histogram2d": [
           {
            "colorbar": {
             "outlinewidth": 0,
             "ticks": ""
            },
            "colorscale": [
             [
              0,
              "#0d0887"
             ],
             [
              0.1111111111111111,
              "#46039f"
             ],
             [
              0.2222222222222222,
              "#7201a8"
             ],
             [
              0.3333333333333333,
              "#9c179e"
             ],
             [
              0.4444444444444444,
              "#bd3786"
             ],
             [
              0.5555555555555556,
              "#d8576b"
             ],
             [
              0.6666666666666666,
              "#ed7953"
             ],
             [
              0.7777777777777778,
              "#fb9f3a"
             ],
             [
              0.8888888888888888,
              "#fdca26"
             ],
             [
              1,
              "#f0f921"
             ]
            ],
            "type": "histogram2d"
           }
          ],
          "histogram2dcontour": [
           {
            "colorbar": {
             "outlinewidth": 0,
             "ticks": ""
            },
            "colorscale": [
             [
              0,
              "#0d0887"
             ],
             [
              0.1111111111111111,
              "#46039f"
             ],
             [
              0.2222222222222222,
              "#7201a8"
             ],
             [
              0.3333333333333333,
              "#9c179e"
             ],
             [
              0.4444444444444444,
              "#bd3786"
             ],
             [
              0.5555555555555556,
              "#d8576b"
             ],
             [
              0.6666666666666666,
              "#ed7953"
             ],
             [
              0.7777777777777778,
              "#fb9f3a"
             ],
             [
              0.8888888888888888,
              "#fdca26"
             ],
             [
              1,
              "#f0f921"
             ]
            ],
            "type": "histogram2dcontour"
           }
          ],
          "mesh3d": [
           {
            "colorbar": {
             "outlinewidth": 0,
             "ticks": ""
            },
            "type": "mesh3d"
           }
          ],
          "parcoords": [
           {
            "line": {
             "colorbar": {
              "outlinewidth": 0,
              "ticks": ""
             }
            },
            "type": "parcoords"
           }
          ],
          "pie": [
           {
            "automargin": true,
            "type": "pie"
           }
          ],
          "scatter": [
           {
            "fillpattern": {
             "fillmode": "overlay",
             "size": 10,
             "solidity": 0.2
            },
            "type": "scatter"
           }
          ],
          "scatter3d": [
           {
            "line": {
             "colorbar": {
              "outlinewidth": 0,
              "ticks": ""
             }
            },
            "marker": {
             "colorbar": {
              "outlinewidth": 0,
              "ticks": ""
             }
            },
            "type": "scatter3d"
           }
          ],
          "scattercarpet": [
           {
            "marker": {
             "colorbar": {
              "outlinewidth": 0,
              "ticks": ""
             }
            },
            "type": "scattercarpet"
           }
          ],
          "scattergeo": [
           {
            "marker": {
             "colorbar": {
              "outlinewidth": 0,
              "ticks": ""
             }
            },
            "type": "scattergeo"
           }
          ],
          "scattergl": [
           {
            "marker": {
             "colorbar": {
              "outlinewidth": 0,
              "ticks": ""
             }
            },
            "type": "scattergl"
           }
          ],
          "scattermapbox": [
           {
            "marker": {
             "colorbar": {
              "outlinewidth": 0,
              "ticks": ""
             }
            },
            "type": "scattermapbox"
           }
          ],
          "scatterpolar": [
           {
            "marker": {
             "colorbar": {
              "outlinewidth": 0,
              "ticks": ""
             }
            },
            "type": "scatterpolar"
           }
          ],
          "scatterpolargl": [
           {
            "marker": {
             "colorbar": {
              "outlinewidth": 0,
              "ticks": ""
             }
            },
            "type": "scatterpolargl"
           }
          ],
          "scatterternary": [
           {
            "marker": {
             "colorbar": {
              "outlinewidth": 0,
              "ticks": ""
             }
            },
            "type": "scatterternary"
           }
          ],
          "surface": [
           {
            "colorbar": {
             "outlinewidth": 0,
             "ticks": ""
            },
            "colorscale": [
             [
              0,
              "#0d0887"
             ],
             [
              0.1111111111111111,
              "#46039f"
             ],
             [
              0.2222222222222222,
              "#7201a8"
             ],
             [
              0.3333333333333333,
              "#9c179e"
             ],
             [
              0.4444444444444444,
              "#bd3786"
             ],
             [
              0.5555555555555556,
              "#d8576b"
             ],
             [
              0.6666666666666666,
              "#ed7953"
             ],
             [
              0.7777777777777778,
              "#fb9f3a"
             ],
             [
              0.8888888888888888,
              "#fdca26"
             ],
             [
              1,
              "#f0f921"
             ]
            ],
            "type": "surface"
           }
          ],
          "table": [
           {
            "cells": {
             "fill": {
              "color": "#EBF0F8"
             },
             "line": {
              "color": "white"
             }
            },
            "header": {
             "fill": {
              "color": "#C8D4E3"
             },
             "line": {
              "color": "white"
             }
            },
            "type": "table"
           }
          ]
         },
         "layout": {
          "annotationdefaults": {
           "arrowcolor": "#2a3f5f",
           "arrowhead": 0,
           "arrowwidth": 1
          },
          "autotypenumbers": "strict",
          "coloraxis": {
           "colorbar": {
            "outlinewidth": 0,
            "ticks": ""
           }
          },
          "colorscale": {
           "diverging": [
            [
             0,
             "#8e0152"
            ],
            [
             0.1,
             "#c51b7d"
            ],
            [
             0.2,
             "#de77ae"
            ],
            [
             0.3,
             "#f1b6da"
            ],
            [
             0.4,
             "#fde0ef"
            ],
            [
             0.5,
             "#f7f7f7"
            ],
            [
             0.6,
             "#e6f5d0"
            ],
            [
             0.7,
             "#b8e186"
            ],
            [
             0.8,
             "#7fbc41"
            ],
            [
             0.9,
             "#4d9221"
            ],
            [
             1,
             "#276419"
            ]
           ],
           "sequential": [
            [
             0,
             "#0d0887"
            ],
            [
             0.1111111111111111,
             "#46039f"
            ],
            [
             0.2222222222222222,
             "#7201a8"
            ],
            [
             0.3333333333333333,
             "#9c179e"
            ],
            [
             0.4444444444444444,
             "#bd3786"
            ],
            [
             0.5555555555555556,
             "#d8576b"
            ],
            [
             0.6666666666666666,
             "#ed7953"
            ],
            [
             0.7777777777777778,
             "#fb9f3a"
            ],
            [
             0.8888888888888888,
             "#fdca26"
            ],
            [
             1,
             "#f0f921"
            ]
           ],
           "sequentialminus": [
            [
             0,
             "#0d0887"
            ],
            [
             0.1111111111111111,
             "#46039f"
            ],
            [
             0.2222222222222222,
             "#7201a8"
            ],
            [
             0.3333333333333333,
             "#9c179e"
            ],
            [
             0.4444444444444444,
             "#bd3786"
            ],
            [
             0.5555555555555556,
             "#d8576b"
            ],
            [
             0.6666666666666666,
             "#ed7953"
            ],
            [
             0.7777777777777778,
             "#fb9f3a"
            ],
            [
             0.8888888888888888,
             "#fdca26"
            ],
            [
             1,
             "#f0f921"
            ]
           ]
          },
          "colorway": [
           "#636efa",
           "#EF553B",
           "#00cc96",
           "#ab63fa",
           "#FFA15A",
           "#19d3f3",
           "#FF6692",
           "#B6E880",
           "#FF97FF",
           "#FECB52"
          ],
          "font": {
           "color": "#2a3f5f"
          },
          "geo": {
           "bgcolor": "white",
           "lakecolor": "white",
           "landcolor": "#E5ECF6",
           "showlakes": true,
           "showland": true,
           "subunitcolor": "white"
          },
          "hoverlabel": {
           "align": "left"
          },
          "hovermode": "closest",
          "mapbox": {
           "style": "light"
          },
          "paper_bgcolor": "white",
          "plot_bgcolor": "#E5ECF6",
          "polar": {
           "angularaxis": {
            "gridcolor": "white",
            "linecolor": "white",
            "ticks": ""
           },
           "bgcolor": "#E5ECF6",
           "radialaxis": {
            "gridcolor": "white",
            "linecolor": "white",
            "ticks": ""
           }
          },
          "scene": {
           "xaxis": {
            "backgroundcolor": "#E5ECF6",
            "gridcolor": "white",
            "gridwidth": 2,
            "linecolor": "white",
            "showbackground": true,
            "ticks": "",
            "zerolinecolor": "white"
           },
           "yaxis": {
            "backgroundcolor": "#E5ECF6",
            "gridcolor": "white",
            "gridwidth": 2,
            "linecolor": "white",
            "showbackground": true,
            "ticks": "",
            "zerolinecolor": "white"
           },
           "zaxis": {
            "backgroundcolor": "#E5ECF6",
            "gridcolor": "white",
            "gridwidth": 2,
            "linecolor": "white",
            "showbackground": true,
            "ticks": "",
            "zerolinecolor": "white"
           }
          },
          "shapedefaults": {
           "line": {
            "color": "#2a3f5f"
           }
          },
          "ternary": {
           "aaxis": {
            "gridcolor": "white",
            "linecolor": "white",
            "ticks": ""
           },
           "baxis": {
            "gridcolor": "white",
            "linecolor": "white",
            "ticks": ""
           },
           "bgcolor": "#E5ECF6",
           "caxis": {
            "gridcolor": "white",
            "linecolor": "white",
            "ticks": ""
           }
          },
          "title": {
           "x": 0.05
          },
          "xaxis": {
           "automargin": true,
           "gridcolor": "white",
           "linecolor": "white",
           "ticks": "",
           "title": {
            "standoff": 15
           },
           "zerolinecolor": "white",
           "zerolinewidth": 2
          },
          "yaxis": {
           "automargin": true,
           "gridcolor": "white",
           "linecolor": "white",
           "ticks": "",
           "title": {
            "standoff": 15
           },
           "zerolinecolor": "white",
           "zerolinewidth": 2
          }
         }
        },
        "title": {
         "text": "Conjuntos"
        },
        "width": 1000,
        "xaxis": {
         "anchor": "y",
         "domain": [
          0,
          0.2888888888888889
         ]
        },
        "xaxis10": {
         "anchor": "y10",
         "domain": [
          0,
          0.2888888888888889
         ]
        },
        "xaxis11": {
         "anchor": "y11",
         "domain": [
          0.35555555555555557,
          0.6444444444444445
         ]
        },
        "xaxis12": {
         "anchor": "y12",
         "domain": [
          0.7111111111111111,
          1
         ]
        },
        "xaxis13": {
         "anchor": "y13",
         "domain": [
          0,
          0.2888888888888889
         ]
        },
        "xaxis14": {
         "anchor": "y14",
         "domain": [
          0.35555555555555557,
          0.6444444444444445
         ]
        },
        "xaxis15": {
         "anchor": "y15",
         "domain": [
          0.7111111111111111,
          1
         ]
        },
        "xaxis16": {
         "anchor": "y16",
         "domain": [
          0,
          0.2888888888888889
         ]
        },
        "xaxis17": {
         "anchor": "y17",
         "domain": [
          0.35555555555555557,
          0.6444444444444445
         ]
        },
        "xaxis18": {
         "anchor": "y18",
         "domain": [
          0.7111111111111111,
          1
         ]
        },
        "xaxis19": {
         "anchor": "y19",
         "domain": [
          0,
          0.2888888888888889
         ]
        },
        "xaxis2": {
         "anchor": "y2",
         "domain": [
          0.35555555555555557,
          0.6444444444444445
         ]
        },
        "xaxis20": {
         "anchor": "y20",
         "domain": [
          0.35555555555555557,
          0.6444444444444445
         ]
        },
        "xaxis21": {
         "anchor": "y21",
         "domain": [
          0.7111111111111111,
          1
         ]
        },
        "xaxis22": {
         "anchor": "y22",
         "domain": [
          0,
          0.2888888888888889
         ]
        },
        "xaxis23": {
         "anchor": "y23",
         "domain": [
          0.35555555555555557,
          0.6444444444444445
         ]
        },
        "xaxis24": {
         "anchor": "y24",
         "domain": [
          0.7111111111111111,
          1
         ]
        },
        "xaxis3": {
         "anchor": "y3",
         "domain": [
          0.7111111111111111,
          1
         ]
        },
        "xaxis4": {
         "anchor": "y4",
         "domain": [
          0,
          0.2888888888888889
         ]
        },
        "xaxis5": {
         "anchor": "y5",
         "domain": [
          0.35555555555555557,
          0.6444444444444445
         ]
        },
        "xaxis6": {
         "anchor": "y6",
         "domain": [
          0.7111111111111111,
          1
         ]
        },
        "xaxis7": {
         "anchor": "y7",
         "domain": [
          0,
          0.2888888888888889
         ]
        },
        "xaxis8": {
         "anchor": "y8",
         "domain": [
          0.35555555555555557,
          0.6444444444444445
         ]
        },
        "xaxis9": {
         "anchor": "y9",
         "domain": [
          0.7111111111111111,
          1
         ]
        },
        "yaxis": {
         "anchor": "x",
         "domain": [
          0.9078124999999999,
          0.9999999999999999
         ]
        },
        "yaxis10": {
         "anchor": "x10",
         "domain": [
          0.51875,
          0.6109375
         ]
        },
        "yaxis11": {
         "anchor": "x11",
         "domain": [
          0.51875,
          0.6109375
         ]
        },
        "yaxis12": {
         "anchor": "x12",
         "domain": [
          0.51875,
          0.6109375
         ]
        },
        "yaxis13": {
         "anchor": "x13",
         "domain": [
          0.38906250000000003,
          0.48125000000000007
         ]
        },
        "yaxis14": {
         "anchor": "x14",
         "domain": [
          0.38906250000000003,
          0.48125000000000007
         ]
        },
        "yaxis15": {
         "anchor": "x15",
         "domain": [
          0.38906250000000003,
          0.48125000000000007
         ]
        },
        "yaxis16": {
         "anchor": "x16",
         "domain": [
          0.259375,
          0.3515625
         ]
        },
        "yaxis17": {
         "anchor": "x17",
         "domain": [
          0.259375,
          0.3515625
         ]
        },
        "yaxis18": {
         "anchor": "x18",
         "domain": [
          0.259375,
          0.3515625
         ]
        },
        "yaxis19": {
         "anchor": "x19",
         "domain": [
          0.1296875,
          0.22187500000000002
         ]
        },
        "yaxis2": {
         "anchor": "x2",
         "domain": [
          0.9078124999999999,
          0.9999999999999999
         ]
        },
        "yaxis20": {
         "anchor": "x20",
         "domain": [
          0.1296875,
          0.22187500000000002
         ]
        },
        "yaxis21": {
         "anchor": "x21",
         "domain": [
          0.1296875,
          0.22187500000000002
         ]
        },
        "yaxis22": {
         "anchor": "x22",
         "domain": [
          0,
          0.0921875
         ]
        },
        "yaxis23": {
         "anchor": "x23",
         "domain": [
          0,
          0.0921875
         ]
        },
        "yaxis24": {
         "anchor": "x24",
         "domain": [
          0,
          0.0921875
         ]
        },
        "yaxis3": {
         "anchor": "x3",
         "domain": [
          0.9078124999999999,
          0.9999999999999999
         ]
        },
        "yaxis4": {
         "anchor": "x4",
         "domain": [
          0.778125,
          0.8703124999999999
         ]
        },
        "yaxis5": {
         "anchor": "x5",
         "domain": [
          0.778125,
          0.8703124999999999
         ]
        },
        "yaxis6": {
         "anchor": "x6",
         "domain": [
          0.778125,
          0.8703124999999999
         ]
        },
        "yaxis7": {
         "anchor": "x7",
         "domain": [
          0.6484375,
          0.740625
         ]
        },
        "yaxis8": {
         "anchor": "x8",
         "domain": [
          0.6484375,
          0.740625
         ]
        },
        "yaxis9": {
         "anchor": "x9",
         "domain": [
          0.6484375,
          0.740625
         ]
        }
       }
      }
     },
     "metadata": {},
     "output_type": "display_data"
    }
   ],
   "source": [
    "# Ploteamos las reglas\n",
    "fig = make_subplots(len(reglas),3)\n",
    "\n",
    "# Iteramos ploteando\n",
    "for i in range(len(reglas)):\n",
    "\n",
    "    # Plot de entrada 1\n",
    "    fig.add_trace(go.Scatter(x = df['x'], y = df[f'r{i}_e1']), row = i+1 ,col = 1)\n",
    "\n",
    "    # Plot de la entrada 2\n",
    "    fig.add_trace(go.Scatter(x = df['x'], y = df[f'r{i}_e2']), row = i+1 ,col = 2)\n",
    "\n",
    "    # Plot de la salida\n",
    "    fig.add_trace(go.Scatter(x = df['x'], y = df[f's{i}']), row = i+1 ,col = 3)\n",
    "\n",
    "fig.update_layout(height=800, width=1000, title_text=\"Conjuntos\")\n",
    "fig.show()"
   ]
  },
  {
   "cell_type": "code",
   "execution_count": 54,
   "metadata": {},
   "outputs": [
    {
     "data": {
      "text/plain": [
       "([1, 0, 0, 0, 0, 1, 1, 0],\n",
       " [1, 1, 0, 0, 0, 0, 1, 0],\n",
       " [0, 0, 0.0, 1.0, 1.0, 0, 0, 0])"
      ]
     },
     "execution_count": 54,
     "metadata": {},
     "output_type": "execute_result"
    }
   ],
   "source": [
    "base_reglas(-0.99,-1, conjuntos, reglas)"
   ]
  },
  {
   "cell_type": "code",
   "execution_count": 51,
   "metadata": {},
   "outputs": [
    {
     "data": {
      "text/plain": [
       "0     1.0\n",
       "1     1.0\n",
       "2     1.0\n",
       "3     1.0\n",
       "4     1.0\n",
       "     ... \n",
       "94    0.0\n",
       "95    0.0\n",
       "96    0.0\n",
       "97    0.0\n",
       "98    0.0\n",
       "Name: r0, Length: 99, dtype: float64"
      ]
     },
     "execution_count": 51,
     "metadata": {},
     "output_type": "execute_result"
    }
   ],
   "source": [
    "df['r0']"
   ]
  }
 ],
 "metadata": {
  "kernelspec": {
   "display_name": "Python 3",
   "language": "python",
   "name": "python3"
  },
  "language_info": {
   "codemirror_mode": {
    "name": "ipython",
    "version": 3
   },
   "file_extension": ".py",
   "mimetype": "text/x-python",
   "name": "python",
   "nbconvert_exporter": "python",
   "pygments_lexer": "ipython3",
   "version": "3.10.1"
  },
  "orig_nbformat": 4
 },
 "nbformat": 4,
 "nbformat_minor": 2
}
